{
  "nbformat": 4,
  "nbformat_minor": 0,
  "metadata": {
    "colab": {
      "provenance": []
    },
    "kernelspec": {
      "name": "python3",
      "display_name": "Python 3"
    },
    "language_info": {
      "name": "python"
    }
  },
  "cells": [
    {
      "cell_type": "markdown",
      "source": [
        "Cross Validation"
      ],
      "metadata": {
        "id": "syPdvBkdEatJ"
      }
    },
    {
      "cell_type": "markdown",
      "source": [
        "###**INSTRUCTIONS**\n",
        "#####Provide your observation/summary for all tutorials and tasks. Marks will be deducted for those who dont write the summary.\n",
        "#####Print this file as pdf and submit both pdf and .ipynb file(No screenshots). Not submitting any of these files will impact their grades."
      ],
      "metadata": {
        "id": "RkEIHCuTIJi_"
      }
    },
    {
      "cell_type": "markdown",
      "source": [
        "###Tutorial"
      ],
      "metadata": {
        "id": "MuJ48q_LESwM"
      }
    },
    {
      "cell_type": "markdown",
      "source": [
        "####Performing EDA on the dataset"
      ],
      "metadata": {
        "id": "-DBYokRwzaXm"
      }
    },
    {
      "cell_type": "code",
      "execution_count": null,
      "metadata": {
        "id": "f0WBxr4HJ3Zn"
      },
      "outputs": [],
      "source": [
        "import pandas as pd\n",
        "import numpy as np\n",
        "import time\n",
        "from sklearn.model_selection import KFold, StratifiedKFold, cross_val_score, LeaveOneOut,\\\n",
        "RepeatedKFold, train_test_split\n",
        "from sklearn.preprocessing import OneHotEncoder, RobustScaler\n",
        "from sklearn.compose import ColumnTransformer\n",
        "from sklearn.pipeline import Pipeline\n",
        "from sklearn.ensemble import RandomForestClassifier"
      ]
    },
    {
      "cell_type": "markdown",
      "source": [
        "here, we are importing the libraries for performing data manipulation and also machine learning from scikit learn. here we are using some libraries for cross validation and data preprocessing such as onehotencoder, robustscaler, and we are here creating the machine learning model and for that we are using randomforest classifier. here we are using the pipeline to perform the model training an evaluation."
      ],
      "metadata": {
        "id": "SAUD4ddOFJFT"
      }
    },
    {
      "cell_type": "code",
      "source": [
        "df = pd.read_csv('income_evaluation-1.csv', na_values=' ?')\n",
        "df.head()"
      ],
      "metadata": {
        "colab": {
          "base_uri": "https://localhost:8080/",
          "height": 310
        },
        "id": "FLY0pc2nJ5x6",
        "outputId": "1c5a75de-cd9c-4c4d-8ee9-b91f0dd11002"
      },
      "execution_count": null,
      "outputs": [
        {
          "output_type": "execute_result",
          "data": {
            "text/plain": [
              "   age          workclass   fnlwgt   education   education-num  \\\n",
              "0   39          State-gov    77516   Bachelors              13   \n",
              "1   50   Self-emp-not-inc    83311   Bachelors              13   \n",
              "2   38            Private   215646     HS-grad               9   \n",
              "3   53            Private   234721        11th               7   \n",
              "4   28            Private   338409   Bachelors              13   \n",
              "\n",
              "        marital-status          occupation    relationship    race      sex  \\\n",
              "0        Never-married        Adm-clerical   Not-in-family   White     Male   \n",
              "1   Married-civ-spouse     Exec-managerial         Husband   White     Male   \n",
              "2             Divorced   Handlers-cleaners   Not-in-family   White     Male   \n",
              "3   Married-civ-spouse   Handlers-cleaners         Husband   Black     Male   \n",
              "4   Married-civ-spouse      Prof-specialty            Wife   Black   Female   \n",
              "\n",
              "    capital-gain   capital-loss   hours-per-week  native-country  income  \n",
              "0           2174              0               40   United-States   <=50K  \n",
              "1              0              0               13   United-States   <=50K  \n",
              "2              0              0               40   United-States   <=50K  \n",
              "3              0              0               40   United-States   <=50K  \n",
              "4              0              0               40            Cuba   <=50K  "
            ],
            "text/html": [
              "\n",
              "  <div id=\"df-79a09ee4-e46a-42b3-b68a-70562b51c13d\" class=\"colab-df-container\">\n",
              "    <div>\n",
              "<style scoped>\n",
              "    .dataframe tbody tr th:only-of-type {\n",
              "        vertical-align: middle;\n",
              "    }\n",
              "\n",
              "    .dataframe tbody tr th {\n",
              "        vertical-align: top;\n",
              "    }\n",
              "\n",
              "    .dataframe thead th {\n",
              "        text-align: right;\n",
              "    }\n",
              "</style>\n",
              "<table border=\"1\" class=\"dataframe\">\n",
              "  <thead>\n",
              "    <tr style=\"text-align: right;\">\n",
              "      <th></th>\n",
              "      <th>age</th>\n",
              "      <th>workclass</th>\n",
              "      <th>fnlwgt</th>\n",
              "      <th>education</th>\n",
              "      <th>education-num</th>\n",
              "      <th>marital-status</th>\n",
              "      <th>occupation</th>\n",
              "      <th>relationship</th>\n",
              "      <th>race</th>\n",
              "      <th>sex</th>\n",
              "      <th>capital-gain</th>\n",
              "      <th>capital-loss</th>\n",
              "      <th>hours-per-week</th>\n",
              "      <th>native-country</th>\n",
              "      <th>income</th>\n",
              "    </tr>\n",
              "  </thead>\n",
              "  <tbody>\n",
              "    <tr>\n",
              "      <th>0</th>\n",
              "      <td>39</td>\n",
              "      <td>State-gov</td>\n",
              "      <td>77516</td>\n",
              "      <td>Bachelors</td>\n",
              "      <td>13</td>\n",
              "      <td>Never-married</td>\n",
              "      <td>Adm-clerical</td>\n",
              "      <td>Not-in-family</td>\n",
              "      <td>White</td>\n",
              "      <td>Male</td>\n",
              "      <td>2174</td>\n",
              "      <td>0</td>\n",
              "      <td>40</td>\n",
              "      <td>United-States</td>\n",
              "      <td>&lt;=50K</td>\n",
              "    </tr>\n",
              "    <tr>\n",
              "      <th>1</th>\n",
              "      <td>50</td>\n",
              "      <td>Self-emp-not-inc</td>\n",
              "      <td>83311</td>\n",
              "      <td>Bachelors</td>\n",
              "      <td>13</td>\n",
              "      <td>Married-civ-spouse</td>\n",
              "      <td>Exec-managerial</td>\n",
              "      <td>Husband</td>\n",
              "      <td>White</td>\n",
              "      <td>Male</td>\n",
              "      <td>0</td>\n",
              "      <td>0</td>\n",
              "      <td>13</td>\n",
              "      <td>United-States</td>\n",
              "      <td>&lt;=50K</td>\n",
              "    </tr>\n",
              "    <tr>\n",
              "      <th>2</th>\n",
              "      <td>38</td>\n",
              "      <td>Private</td>\n",
              "      <td>215646</td>\n",
              "      <td>HS-grad</td>\n",
              "      <td>9</td>\n",
              "      <td>Divorced</td>\n",
              "      <td>Handlers-cleaners</td>\n",
              "      <td>Not-in-family</td>\n",
              "      <td>White</td>\n",
              "      <td>Male</td>\n",
              "      <td>0</td>\n",
              "      <td>0</td>\n",
              "      <td>40</td>\n",
              "      <td>United-States</td>\n",
              "      <td>&lt;=50K</td>\n",
              "    </tr>\n",
              "    <tr>\n",
              "      <th>3</th>\n",
              "      <td>53</td>\n",
              "      <td>Private</td>\n",
              "      <td>234721</td>\n",
              "      <td>11th</td>\n",
              "      <td>7</td>\n",
              "      <td>Married-civ-spouse</td>\n",
              "      <td>Handlers-cleaners</td>\n",
              "      <td>Husband</td>\n",
              "      <td>Black</td>\n",
              "      <td>Male</td>\n",
              "      <td>0</td>\n",
              "      <td>0</td>\n",
              "      <td>40</td>\n",
              "      <td>United-States</td>\n",
              "      <td>&lt;=50K</td>\n",
              "    </tr>\n",
              "    <tr>\n",
              "      <th>4</th>\n",
              "      <td>28</td>\n",
              "      <td>Private</td>\n",
              "      <td>338409</td>\n",
              "      <td>Bachelors</td>\n",
              "      <td>13</td>\n",
              "      <td>Married-civ-spouse</td>\n",
              "      <td>Prof-specialty</td>\n",
              "      <td>Wife</td>\n",
              "      <td>Black</td>\n",
              "      <td>Female</td>\n",
              "      <td>0</td>\n",
              "      <td>0</td>\n",
              "      <td>40</td>\n",
              "      <td>Cuba</td>\n",
              "      <td>&lt;=50K</td>\n",
              "    </tr>\n",
              "  </tbody>\n",
              "</table>\n",
              "</div>\n",
              "    <div class=\"colab-df-buttons\">\n",
              "\n",
              "  <div class=\"colab-df-container\">\n",
              "    <button class=\"colab-df-convert\" onclick=\"convertToInteractive('df-79a09ee4-e46a-42b3-b68a-70562b51c13d')\"\n",
              "            title=\"Convert this dataframe to an interactive table.\"\n",
              "            style=\"display:none;\">\n",
              "\n",
              "  <svg xmlns=\"http://www.w3.org/2000/svg\" height=\"24px\" viewBox=\"0 -960 960 960\">\n",
              "    <path d=\"M120-120v-720h720v720H120Zm60-500h600v-160H180v160Zm220 220h160v-160H400v160Zm0 220h160v-160H400v160ZM180-400h160v-160H180v160Zm440 0h160v-160H620v160ZM180-180h160v-160H180v160Zm440 0h160v-160H620v160Z\"/>\n",
              "  </svg>\n",
              "    </button>\n",
              "\n",
              "  <style>\n",
              "    .colab-df-container {\n",
              "      display:flex;\n",
              "      gap: 12px;\n",
              "    }\n",
              "\n",
              "    .colab-df-convert {\n",
              "      background-color: #E8F0FE;\n",
              "      border: none;\n",
              "      border-radius: 50%;\n",
              "      cursor: pointer;\n",
              "      display: none;\n",
              "      fill: #1967D2;\n",
              "      height: 32px;\n",
              "      padding: 0 0 0 0;\n",
              "      width: 32px;\n",
              "    }\n",
              "\n",
              "    .colab-df-convert:hover {\n",
              "      background-color: #E2EBFA;\n",
              "      box-shadow: 0px 1px 2px rgba(60, 64, 67, 0.3), 0px 1px 3px 1px rgba(60, 64, 67, 0.15);\n",
              "      fill: #174EA6;\n",
              "    }\n",
              "\n",
              "    .colab-df-buttons div {\n",
              "      margin-bottom: 4px;\n",
              "    }\n",
              "\n",
              "    [theme=dark] .colab-df-convert {\n",
              "      background-color: #3B4455;\n",
              "      fill: #D2E3FC;\n",
              "    }\n",
              "\n",
              "    [theme=dark] .colab-df-convert:hover {\n",
              "      background-color: #434B5C;\n",
              "      box-shadow: 0px 1px 3px 1px rgba(0, 0, 0, 0.15);\n",
              "      filter: drop-shadow(0px 1px 2px rgba(0, 0, 0, 0.3));\n",
              "      fill: #FFFFFF;\n",
              "    }\n",
              "  </style>\n",
              "\n",
              "    <script>\n",
              "      const buttonEl =\n",
              "        document.querySelector('#df-79a09ee4-e46a-42b3-b68a-70562b51c13d button.colab-df-convert');\n",
              "      buttonEl.style.display =\n",
              "        google.colab.kernel.accessAllowed ? 'block' : 'none';\n",
              "\n",
              "      async function convertToInteractive(key) {\n",
              "        const element = document.querySelector('#df-79a09ee4-e46a-42b3-b68a-70562b51c13d');\n",
              "        const dataTable =\n",
              "          await google.colab.kernel.invokeFunction('convertToInteractive',\n",
              "                                                    [key], {});\n",
              "        if (!dataTable) return;\n",
              "\n",
              "        const docLinkHtml = 'Like what you see? Visit the ' +\n",
              "          '<a target=\"_blank\" href=https://colab.research.google.com/notebooks/data_table.ipynb>data table notebook</a>'\n",
              "          + ' to learn more about interactive tables.';\n",
              "        element.innerHTML = '';\n",
              "        dataTable['output_type'] = 'display_data';\n",
              "        await google.colab.output.renderOutput(dataTable, element);\n",
              "        const docLink = document.createElement('div');\n",
              "        docLink.innerHTML = docLinkHtml;\n",
              "        element.appendChild(docLink);\n",
              "      }\n",
              "    </script>\n",
              "  </div>\n",
              "\n",
              "\n",
              "<div id=\"df-3df50c0c-b1e0-4346-a2de-8b9ffb0d260e\">\n",
              "  <button class=\"colab-df-quickchart\" onclick=\"quickchart('df-3df50c0c-b1e0-4346-a2de-8b9ffb0d260e')\"\n",
              "            title=\"Suggest charts\"\n",
              "            style=\"display:none;\">\n",
              "\n",
              "<svg xmlns=\"http://www.w3.org/2000/svg\" height=\"24px\"viewBox=\"0 0 24 24\"\n",
              "     width=\"24px\">\n",
              "    <g>\n",
              "        <path d=\"M19 3H5c-1.1 0-2 .9-2 2v14c0 1.1.9 2 2 2h14c1.1 0 2-.9 2-2V5c0-1.1-.9-2-2-2zM9 17H7v-7h2v7zm4 0h-2V7h2v10zm4 0h-2v-4h2v4z\"/>\n",
              "    </g>\n",
              "</svg>\n",
              "  </button>\n",
              "\n",
              "<style>\n",
              "  .colab-df-quickchart {\n",
              "      --bg-color: #E8F0FE;\n",
              "      --fill-color: #1967D2;\n",
              "      --hover-bg-color: #E2EBFA;\n",
              "      --hover-fill-color: #174EA6;\n",
              "      --disabled-fill-color: #AAA;\n",
              "      --disabled-bg-color: #DDD;\n",
              "  }\n",
              "\n",
              "  [theme=dark] .colab-df-quickchart {\n",
              "      --bg-color: #3B4455;\n",
              "      --fill-color: #D2E3FC;\n",
              "      --hover-bg-color: #434B5C;\n",
              "      --hover-fill-color: #FFFFFF;\n",
              "      --disabled-bg-color: #3B4455;\n",
              "      --disabled-fill-color: #666;\n",
              "  }\n",
              "\n",
              "  .colab-df-quickchart {\n",
              "    background-color: var(--bg-color);\n",
              "    border: none;\n",
              "    border-radius: 50%;\n",
              "    cursor: pointer;\n",
              "    display: none;\n",
              "    fill: var(--fill-color);\n",
              "    height: 32px;\n",
              "    padding: 0;\n",
              "    width: 32px;\n",
              "  }\n",
              "\n",
              "  .colab-df-quickchart:hover {\n",
              "    background-color: var(--hover-bg-color);\n",
              "    box-shadow: 0 1px 2px rgba(60, 64, 67, 0.3), 0 1px 3px 1px rgba(60, 64, 67, 0.15);\n",
              "    fill: var(--button-hover-fill-color);\n",
              "  }\n",
              "\n",
              "  .colab-df-quickchart-complete:disabled,\n",
              "  .colab-df-quickchart-complete:disabled:hover {\n",
              "    background-color: var(--disabled-bg-color);\n",
              "    fill: var(--disabled-fill-color);\n",
              "    box-shadow: none;\n",
              "  }\n",
              "\n",
              "  .colab-df-spinner {\n",
              "    border: 2px solid var(--fill-color);\n",
              "    border-color: transparent;\n",
              "    border-bottom-color: var(--fill-color);\n",
              "    animation:\n",
              "      spin 1s steps(1) infinite;\n",
              "  }\n",
              "\n",
              "  @keyframes spin {\n",
              "    0% {\n",
              "      border-color: transparent;\n",
              "      border-bottom-color: var(--fill-color);\n",
              "      border-left-color: var(--fill-color);\n",
              "    }\n",
              "    20% {\n",
              "      border-color: transparent;\n",
              "      border-left-color: var(--fill-color);\n",
              "      border-top-color: var(--fill-color);\n",
              "    }\n",
              "    30% {\n",
              "      border-color: transparent;\n",
              "      border-left-color: var(--fill-color);\n",
              "      border-top-color: var(--fill-color);\n",
              "      border-right-color: var(--fill-color);\n",
              "    }\n",
              "    40% {\n",
              "      border-color: transparent;\n",
              "      border-right-color: var(--fill-color);\n",
              "      border-top-color: var(--fill-color);\n",
              "    }\n",
              "    60% {\n",
              "      border-color: transparent;\n",
              "      border-right-color: var(--fill-color);\n",
              "    }\n",
              "    80% {\n",
              "      border-color: transparent;\n",
              "      border-right-color: var(--fill-color);\n",
              "      border-bottom-color: var(--fill-color);\n",
              "    }\n",
              "    90% {\n",
              "      border-color: transparent;\n",
              "      border-bottom-color: var(--fill-color);\n",
              "    }\n",
              "  }\n",
              "</style>\n",
              "\n",
              "  <script>\n",
              "    async function quickchart(key) {\n",
              "      const quickchartButtonEl =\n",
              "        document.querySelector('#' + key + ' button');\n",
              "      quickchartButtonEl.disabled = true;  // To prevent multiple clicks.\n",
              "      quickchartButtonEl.classList.add('colab-df-spinner');\n",
              "      try {\n",
              "        const charts = await google.colab.kernel.invokeFunction(\n",
              "            'suggestCharts', [key], {});\n",
              "      } catch (error) {\n",
              "        console.error('Error during call to suggestCharts:', error);\n",
              "      }\n",
              "      quickchartButtonEl.classList.remove('colab-df-spinner');\n",
              "      quickchartButtonEl.classList.add('colab-df-quickchart-complete');\n",
              "    }\n",
              "    (() => {\n",
              "      let quickchartButtonEl =\n",
              "        document.querySelector('#df-3df50c0c-b1e0-4346-a2de-8b9ffb0d260e button');\n",
              "      quickchartButtonEl.style.display =\n",
              "        google.colab.kernel.accessAllowed ? 'block' : 'none';\n",
              "    })();\n",
              "  </script>\n",
              "</div>\n",
              "    </div>\n",
              "  </div>\n"
            ]
          },
          "metadata": {},
          "execution_count": 97
        }
      ]
    },
    {
      "cell_type": "markdown",
      "source": [
        "here, we are reading the csv file income_evaluation-1 with pandas library as a dataframe, where ? is work with the  missing values.\n",
        "here, we are displaying first five records from the dataframe and records columns are age, workclass, education and occupation etc.here this data is based on the income classification with different features.\n"
      ],
      "metadata": {
        "id": "ZTwTFykEC4Tc"
      }
    },
    {
      "cell_type": "code",
      "source": [
        "df.isna().sum()"
      ],
      "metadata": {
        "colab": {
          "base_uri": "https://localhost:8080/"
        },
        "id": "Opmq8MfgJ50r",
        "outputId": "db763d02-0f4b-436b-d64c-eb9c73552fa8"
      },
      "execution_count": null,
      "outputs": [
        {
          "output_type": "execute_result",
          "data": {
            "text/plain": [
              "age                   0\n",
              " workclass         1836\n",
              " fnlwgt               0\n",
              " education            0\n",
              " education-num        0\n",
              " marital-status       0\n",
              " occupation        1843\n",
              " relationship         0\n",
              " race                 0\n",
              " sex                  0\n",
              " capital-gain         0\n",
              " capital-loss         0\n",
              " hours-per-week       0\n",
              " native-country     583\n",
              " income               0\n",
              "dtype: int64"
            ]
          },
          "metadata": {},
          "execution_count": 98
        }
      ]
    },
    {
      "cell_type": "markdown",
      "source": [
        "here, we are using df with isna and sum() for counting the number of missing values of the each column. focusing on the counts workclass have 1836 missing values, for occupation its 1843 and for native country its 583 columns. here, we are calculating the missing value with the column name to check which column data is missing most so we can handle that data with removal or replacing it for creating modeling.\n"
      ],
      "metadata": {
        "id": "rb93BvMhIFcx"
      }
    },
    {
      "cell_type": "code",
      "source": [
        "df.fillna('missing', inplace=True)"
      ],
      "metadata": {
        "id": "dC6duLvxJ538"
      },
      "execution_count": null,
      "outputs": []
    },
    {
      "cell_type": "markdown",
      "source": [
        "here, we are using df with fillna for the handling missing values to modefied in the dataframe and using inplace as true. this is the basic way to handing the missing values. here, we are replacing nan values with the useful placeholder.\n"
      ],
      "metadata": {
        "id": "fhBbFNECLYUQ"
      }
    },
    {
      "cell_type": "code",
      "source": [
        "df.isna().sum()"
      ],
      "metadata": {
        "colab": {
          "base_uri": "https://localhost:8080/"
        },
        "id": "KK2XfOWxJ56t",
        "outputId": "b8b32ae2-57ab-41e0-a4a0-90d7a666aaec"
      },
      "execution_count": null,
      "outputs": [
        {
          "output_type": "execute_result",
          "data": {
            "text/plain": [
              "age                0\n",
              " workclass         0\n",
              " fnlwgt            0\n",
              " education         0\n",
              " education-num     0\n",
              " marital-status    0\n",
              " occupation        0\n",
              " relationship      0\n",
              " race              0\n",
              " sex               0\n",
              " capital-gain      0\n",
              " capital-loss      0\n",
              " hours-per-week    0\n",
              " native-country    0\n",
              " income            0\n",
              "dtype: int64"
            ]
          },
          "metadata": {},
          "execution_count": 100
        }
      ]
    },
    {
      "cell_type": "markdown",
      "source": [
        "here, again we are using df with isna() with sum().here, we are counting the columns who have nan values or missing values. focusing on the counting of columns now columns with missing values are count as 0, which suggest that there is no missing values in the dataframe."
      ],
      "metadata": {
        "id": "umK3-NJBNtge"
      }
    },
    {
      "cell_type": "code",
      "source": [
        "X = df.drop(' income', axis=1)\n",
        "y = df[' income']"
      ],
      "metadata": {
        "id": "VsCuP5UrJ59V"
      },
      "execution_count": null,
      "outputs": []
    },
    {
      "cell_type": "markdown",
      "source": [
        "here, we are dropping the column income from the dataframe and using all other columns and and all of them stored in variable x, while in contrast, in the y variable income column is use for model.\n",
        "we are here using x and y variable  for creating model and fitting the data into model using x and y."
      ],
      "metadata": {
        "id": "jNI11KIDQdnC"
      }
    },
    {
      "cell_type": "code",
      "source": [
        "X.shape"
      ],
      "metadata": {
        "colab": {
          "base_uri": "https://localhost:8080/"
        },
        "id": "Z9lk7S3AJ6Ab",
        "outputId": "1cf4fe8d-047d-416c-88e5-3059d2a1373e"
      },
      "execution_count": null,
      "outputs": [
        {
          "output_type": "execute_result",
          "data": {
            "text/plain": [
              "(32561, 14)"
            ]
          },
          "metadata": {},
          "execution_count": 102
        }
      ]
    },
    {
      "cell_type": "markdown",
      "source": [
        "here, we are checking the shape of the data for x variable. here we are displaying the x.shape, which is 32561 rows with 14 columns."
      ],
      "metadata": {
        "id": "hUU52TsVRUJX"
      }
    },
    {
      "cell_type": "code",
      "source": [
        "y.value_counts()"
      ],
      "metadata": {
        "colab": {
          "base_uri": "https://localhost:8080/"
        },
        "id": "C7LQINSYJ6DS",
        "outputId": "09128d2e-b620-431d-e2b3-c14e7654de97"
      },
      "execution_count": null,
      "outputs": [
        {
          "output_type": "execute_result",
          "data": {
            "text/plain": [
              " <=50K    24720\n",
              " >50K      7841\n",
              "Name:  income, dtype: int64"
            ]
          },
          "metadata": {},
          "execution_count": 103
        }
      ]
    },
    {
      "cell_type": "markdown",
      "source": [
        "here, we are counting the y values using the y.value_counts(). focusing on the results <= 50 k is 24720 and >= 50k  is 7841."
      ],
      "metadata": {
        "id": "Gc_QzG5GTRVG"
      }
    },
    {
      "cell_type": "markdown",
      "source": [
        "###1. KFold Cross Validation"
      ],
      "metadata": {
        "id": "JjTYmmVKzx7H"
      }
    },
    {
      "cell_type": "code",
      "source": [
        "kf = KFold(n_splits=5)"
      ],
      "metadata": {
        "id": "_SUK7VFjJ6Gt"
      },
      "execution_count": null,
      "outputs": []
    },
    {
      "cell_type": "markdown",
      "source": [
        "cross validation is the resampling method use for the different part of the data for test and train on the different iteration. this is use for set the main goal for prediction, this is the estimate that how our prediction model  performing well and accurate with the data.\n",
        "\n",
        "k-fold is the technique for evaluation the prediction model. here, we are dividing into the subset of the k or in the folds. here, we are training the model as well as evaluating for the k times,  we are using the different kind of the folds as the validating set for each of the time. here , we are calculating the performance metrics for the each of the folds,which are average for estimate the models generation performance. this is use for partition the data into the training and validating set with the 5 different iteration during k cross validation.  \n",
        "\n",
        "here, we are using k folds with n splits for 5 folds. in short, we are splits the k folds in to the 5 folds and stored them into one variable named as kf."
      ],
      "metadata": {
        "id": "S9v44UjFUz7Y"
      }
    },
    {
      "cell_type": "code",
      "source": [
        "32561/5"
      ],
      "metadata": {
        "colab": {
          "base_uri": "https://localhost:8080/"
        },
        "id": "ek1AnswaKJm2",
        "outputId": "0621b6fc-737a-48b5-828a-1d6572446fdd"
      },
      "execution_count": null,
      "outputs": [
        {
          "output_type": "execute_result",
          "data": {
            "text/plain": [
              "6512.2"
            ]
          },
          "metadata": {},
          "execution_count": 105
        }
      ]
    },
    {
      "cell_type": "markdown",
      "source": [
        "here, we are using the total number of data points and dividing by the total folds which is here is 5.  here, for the k fold cross validation we are representing the devided in to the 5 which is almost same size, while the results are shows the number of the data points in the each of the folds. here for the each of the fold serve the validate set when the model is trained and remain data in the other folds during the each iterations.\n",
        "here, the k folds i division value is 6512.2."
      ],
      "metadata": {
        "id": "fGQxhVbBY-7e"
      }
    },
    {
      "cell_type": "code",
      "source": [
        "6512*4"
      ],
      "metadata": {
        "colab": {
          "base_uri": "https://localhost:8080/"
        },
        "id": "ak7s3gT7KJps",
        "outputId": "b5f8d0d5-95ed-4528-f51f-b3918de0ccf4"
      },
      "execution_count": null,
      "outputs": [
        {
          "output_type": "execute_result",
          "data": {
            "text/plain": [
              "26048"
            ]
          },
          "metadata": {},
          "execution_count": 106
        }
      ]
    },
    {
      "cell_type": "markdown",
      "source": [
        "here, this calculation shows that we have used total number of data points use is 4 from the 5 folds. here, the product of the number id 6512  folds use for the training is 4 folds. this is left one fold as the validation set during the time of each iteration. the result is 26048.  \n",
        "\n"
      ],
      "metadata": {
        "id": "tvxbzJDXd-mg"
      }
    },
    {
      "cell_type": "code",
      "source": [
        "i = 1\n",
        "for train_set, test_set in kf.split(X=X):\n",
        "    print(\"iteration \", i)\n",
        "    print(train_set, \" having :\" , len(train_set))\n",
        "    print(test_set, \" having :\" , len(test_set))\n",
        "    print(\"-------------------------\")\n",
        "    i += 1"
      ],
      "metadata": {
        "colab": {
          "base_uri": "https://localhost:8080/"
        },
        "id": "_mDRCDtLKJtH",
        "outputId": "590c78aa-0ac1-49dd-d4ed-a5f0e9098a43"
      },
      "execution_count": null,
      "outputs": [
        {
          "output_type": "stream",
          "name": "stdout",
          "text": [
            "iteration  1\n",
            "[ 6513  6514  6515 ... 32558 32559 32560]  having : 26048\n",
            "[   0    1    2 ... 6510 6511 6512]  having : 6513\n",
            "-------------------------\n",
            "iteration  2\n",
            "[    0     1     2 ... 32558 32559 32560]  having : 26049\n",
            "[ 6513  6514  6515 ... 13022 13023 13024]  having : 6512\n",
            "-------------------------\n",
            "iteration  3\n",
            "[    0     1     2 ... 32558 32559 32560]  having : 26049\n",
            "[13025 13026 13027 ... 19534 19535 19536]  having : 6512\n",
            "-------------------------\n",
            "iteration  4\n",
            "[    0     1     2 ... 32558 32559 32560]  having : 26049\n",
            "[19537 19538 19539 ... 26046 26047 26048]  having : 6512\n",
            "-------------------------\n",
            "iteration  5\n",
            "[    0     1     2 ... 26046 26047 26048]  having : 26049\n",
            "[26049 26050 26051 ... 32558 32559 32560]  having : 6512\n",
            "-------------------------\n"
          ]
        }
      ]
    },
    {
      "cell_type": "markdown",
      "source": [
        "\n",
        "here, we are uisng for loop for iterating the loop. first its set at iterate =1 and its getting +1 after each of the iterations. we are iterating for the 5 folds of the k fold cross validation which is applied to the dataset x. here, for the each of the iteration, its print the token of the training and testing sets. here training set is containg the 80% of the data,  testing set contains the remaining 20%, this is to check that we are using the validation correctly once for all the 5 iterations.\n",
        "focusing on the values there is two calculation results for having. first iteration one having is 26048 and 6512 and after iteration 2 to upto iteration 5 while the iteration having is remain same 26049 and 6512."
      ],
      "metadata": {
        "id": "ClARyxligicv"
      }
    },
    {
      "cell_type": "code",
      "source": [
        "num_cols = X.select_dtypes(include=np.number).columns\n",
        "num_cols"
      ],
      "metadata": {
        "colab": {
          "base_uri": "https://localhost:8080/"
        },
        "id": "J2K7HxdyKJwn",
        "outputId": "81608980-2d41-4f39-f537-357273b95909"
      },
      "execution_count": null,
      "outputs": [
        {
          "output_type": "execute_result",
          "data": {
            "text/plain": [
              "Index(['age', ' fnlwgt', ' education-num', ' capital-gain', ' capital-loss',\n",
              "       ' hours-per-week'],\n",
              "      dtype='object')"
            ]
          },
          "metadata": {},
          "execution_count": 108
        }
      ]
    },
    {
      "cell_type": "markdown",
      "source": [
        "here, we are selecting the numeric column from the dataframe. for selecting the columns which have numeric values only we are using x.select_dtype(include=np.number).columns  this is specify that we are choosing the column which have numberic data using np.number with selecting the data types.\n",
        "\n",
        "focusing on the results what we got is in the index we got columns with the numeric value and columns are age, fnlwgt, education-num, capital-gain, capital-loss and hours-per-week.\n",
        "\n"
      ],
      "metadata": {
        "id": "sQ-U2an_mGgc"
      }
    },
    {
      "cell_type": "code",
      "source": [
        "cat_cols = X.select_dtypes(exclude=np.number).columns\n",
        "cat_cols"
      ],
      "metadata": {
        "colab": {
          "base_uri": "https://localhost:8080/"
        },
        "id": "e43PGB1ILCCL",
        "outputId": "177420fc-ba09-4b5e-e31d-1d5bed1c8f66"
      },
      "execution_count": null,
      "outputs": [
        {
          "output_type": "execute_result",
          "data": {
            "text/plain": [
              "Index([' workclass', ' education', ' marital-status', ' occupation',\n",
              "       ' relationship', ' race', ' sex', ' native-country'],\n",
              "      dtype='object')"
            ]
          },
          "metadata": {},
          "execution_count": 109
        }
      ]
    },
    {
      "cell_type": "markdown",
      "source": [
        "this code is totally opposite to the above. here, we are excluding the numeric data and only consider categorical data columns.\n",
        "\n",
        "here we are using X.select_dtypes(exclude=np.number).columns which is actully excluding the columns which have numeric data types and use other data types only. stored results into the cat_cols.\n",
        "focusing on the output we have workclass, education, marital-status, occupation, relationship, race sex and native-country.\n"
      ],
      "metadata": {
        "id": "-7JT7qBsqG30"
      }
    },
    {
      "cell_type": "code",
      "source": [
        "ct = ColumnTransformer([\n",
        "    ('rob', RobustScaler(), num_cols),\n",
        "    ('ohe', OneHotEncoder(handle_unknown='ignore'), cat_cols)\n",
        "])"
      ],
      "metadata": {
        "id": "MXrihDDKLEaQ"
      },
      "execution_count": null,
      "outputs": []
    },
    {
      "cell_type": "markdown",
      "source": [
        "here, this code is using for transfering columns to the different subsets. here, we are using the robustscaler for handling the numerical columns , and onehotencoder is use for encoding the categorical data. for that we are using the one hot encoding with the non numeric category. here handle_unknown= ignore set if the unknown category appear then its ignored that not include for not causing any error. this is used for machine learning model for consistent preprocessing.\n"
      ],
      "metadata": {
        "id": "Moo7164tt3Kt"
      }
    },
    {
      "cell_type": "code",
      "source": [
        "pipe = Pipeline([\n",
        "    ('ct_step', ct),\n",
        "    ('model', RandomForestClassifier(n_estimators=10, random_state=0))\n",
        "])"
      ],
      "metadata": {
        "id": "YCicd4G4LGld"
      },
      "execution_count": null,
      "outputs": []
    },
    {
      "cell_type": "markdown",
      "source": [
        "here we are creating the machine learning pipeline with contain of two steps, first is ct_step which is applied the previous define column transfer for preprocess the data. the second is model, which is the random forest classifier with the 10 decision trees and a random state 0. this pipeline is used for preprocession and creating the model.\n"
      ],
      "metadata": {
        "id": "2UzSmHGGwYCs"
      }
    },
    {
      "cell_type": "code",
      "source": [
        "X.loc[6513:].head()"
      ],
      "metadata": {
        "colab": {
          "base_uri": "https://localhost:8080/",
          "height": 310
        },
        "id": "yfcpuONoLK8B",
        "outputId": "c01489a6-9d3a-46d1-b582-ac0fd3765dfd"
      },
      "execution_count": null,
      "outputs": [
        {
          "output_type": "execute_result",
          "data": {
            "text/plain": [
              "      age      workclass   fnlwgt      education   education-num  \\\n",
              "6513   29        Private   280344      Bachelors              13   \n",
              "6514   45        Private   202496      Bachelors              13   \n",
              "6515   61   Self-emp-inc   134768   Some-college              10   \n",
              "6516   40        Private   175686   Some-college              10   \n",
              "6517   24        Private   194748        HS-grad               9   \n",
              "\n",
              "           marital-status          occupation    relationship    race  \\\n",
              "6513   Married-civ-spouse               Sales         Husband   White   \n",
              "6514   Married-civ-spouse   Handlers-cleaners         Husband   White   \n",
              "6515   Married-civ-spouse               Sales         Husband   White   \n",
              "6516             Divorced        Adm-clerical       Unmarried   White   \n",
              "6517        Never-married    Transport-moving   Not-in-family   White   \n",
              "\n",
              "          sex   capital-gain   capital-loss   hours-per-week  native-country  \n",
              "6513     Male              0              0               40   United-States  \n",
              "6514     Male              0              0               37   United-States  \n",
              "6515     Male              0              0               40   United-States  \n",
              "6516   Female              0              0               40   United-States  \n",
              "6517   Female              0              0               49   United-States  "
            ],
            "text/html": [
              "\n",
              "  <div id=\"df-f9184421-fcd6-4da1-9289-6bf86205b211\" class=\"colab-df-container\">\n",
              "    <div>\n",
              "<style scoped>\n",
              "    .dataframe tbody tr th:only-of-type {\n",
              "        vertical-align: middle;\n",
              "    }\n",
              "\n",
              "    .dataframe tbody tr th {\n",
              "        vertical-align: top;\n",
              "    }\n",
              "\n",
              "    .dataframe thead th {\n",
              "        text-align: right;\n",
              "    }\n",
              "</style>\n",
              "<table border=\"1\" class=\"dataframe\">\n",
              "  <thead>\n",
              "    <tr style=\"text-align: right;\">\n",
              "      <th></th>\n",
              "      <th>age</th>\n",
              "      <th>workclass</th>\n",
              "      <th>fnlwgt</th>\n",
              "      <th>education</th>\n",
              "      <th>education-num</th>\n",
              "      <th>marital-status</th>\n",
              "      <th>occupation</th>\n",
              "      <th>relationship</th>\n",
              "      <th>race</th>\n",
              "      <th>sex</th>\n",
              "      <th>capital-gain</th>\n",
              "      <th>capital-loss</th>\n",
              "      <th>hours-per-week</th>\n",
              "      <th>native-country</th>\n",
              "    </tr>\n",
              "  </thead>\n",
              "  <tbody>\n",
              "    <tr>\n",
              "      <th>6513</th>\n",
              "      <td>29</td>\n",
              "      <td>Private</td>\n",
              "      <td>280344</td>\n",
              "      <td>Bachelors</td>\n",
              "      <td>13</td>\n",
              "      <td>Married-civ-spouse</td>\n",
              "      <td>Sales</td>\n",
              "      <td>Husband</td>\n",
              "      <td>White</td>\n",
              "      <td>Male</td>\n",
              "      <td>0</td>\n",
              "      <td>0</td>\n",
              "      <td>40</td>\n",
              "      <td>United-States</td>\n",
              "    </tr>\n",
              "    <tr>\n",
              "      <th>6514</th>\n",
              "      <td>45</td>\n",
              "      <td>Private</td>\n",
              "      <td>202496</td>\n",
              "      <td>Bachelors</td>\n",
              "      <td>13</td>\n",
              "      <td>Married-civ-spouse</td>\n",
              "      <td>Handlers-cleaners</td>\n",
              "      <td>Husband</td>\n",
              "      <td>White</td>\n",
              "      <td>Male</td>\n",
              "      <td>0</td>\n",
              "      <td>0</td>\n",
              "      <td>37</td>\n",
              "      <td>United-States</td>\n",
              "    </tr>\n",
              "    <tr>\n",
              "      <th>6515</th>\n",
              "      <td>61</td>\n",
              "      <td>Self-emp-inc</td>\n",
              "      <td>134768</td>\n",
              "      <td>Some-college</td>\n",
              "      <td>10</td>\n",
              "      <td>Married-civ-spouse</td>\n",
              "      <td>Sales</td>\n",
              "      <td>Husband</td>\n",
              "      <td>White</td>\n",
              "      <td>Male</td>\n",
              "      <td>0</td>\n",
              "      <td>0</td>\n",
              "      <td>40</td>\n",
              "      <td>United-States</td>\n",
              "    </tr>\n",
              "    <tr>\n",
              "      <th>6516</th>\n",
              "      <td>40</td>\n",
              "      <td>Private</td>\n",
              "      <td>175686</td>\n",
              "      <td>Some-college</td>\n",
              "      <td>10</td>\n",
              "      <td>Divorced</td>\n",
              "      <td>Adm-clerical</td>\n",
              "      <td>Unmarried</td>\n",
              "      <td>White</td>\n",
              "      <td>Female</td>\n",
              "      <td>0</td>\n",
              "      <td>0</td>\n",
              "      <td>40</td>\n",
              "      <td>United-States</td>\n",
              "    </tr>\n",
              "    <tr>\n",
              "      <th>6517</th>\n",
              "      <td>24</td>\n",
              "      <td>Private</td>\n",
              "      <td>194748</td>\n",
              "      <td>HS-grad</td>\n",
              "      <td>9</td>\n",
              "      <td>Never-married</td>\n",
              "      <td>Transport-moving</td>\n",
              "      <td>Not-in-family</td>\n",
              "      <td>White</td>\n",
              "      <td>Female</td>\n",
              "      <td>0</td>\n",
              "      <td>0</td>\n",
              "      <td>49</td>\n",
              "      <td>United-States</td>\n",
              "    </tr>\n",
              "  </tbody>\n",
              "</table>\n",
              "</div>\n",
              "    <div class=\"colab-df-buttons\">\n",
              "\n",
              "  <div class=\"colab-df-container\">\n",
              "    <button class=\"colab-df-convert\" onclick=\"convertToInteractive('df-f9184421-fcd6-4da1-9289-6bf86205b211')\"\n",
              "            title=\"Convert this dataframe to an interactive table.\"\n",
              "            style=\"display:none;\">\n",
              "\n",
              "  <svg xmlns=\"http://www.w3.org/2000/svg\" height=\"24px\" viewBox=\"0 -960 960 960\">\n",
              "    <path d=\"M120-120v-720h720v720H120Zm60-500h600v-160H180v160Zm220 220h160v-160H400v160Zm0 220h160v-160H400v160ZM180-400h160v-160H180v160Zm440 0h160v-160H620v160ZM180-180h160v-160H180v160Zm440 0h160v-160H620v160Z\"/>\n",
              "  </svg>\n",
              "    </button>\n",
              "\n",
              "  <style>\n",
              "    .colab-df-container {\n",
              "      display:flex;\n",
              "      gap: 12px;\n",
              "    }\n",
              "\n",
              "    .colab-df-convert {\n",
              "      background-color: #E8F0FE;\n",
              "      border: none;\n",
              "      border-radius: 50%;\n",
              "      cursor: pointer;\n",
              "      display: none;\n",
              "      fill: #1967D2;\n",
              "      height: 32px;\n",
              "      padding: 0 0 0 0;\n",
              "      width: 32px;\n",
              "    }\n",
              "\n",
              "    .colab-df-convert:hover {\n",
              "      background-color: #E2EBFA;\n",
              "      box-shadow: 0px 1px 2px rgba(60, 64, 67, 0.3), 0px 1px 3px 1px rgba(60, 64, 67, 0.15);\n",
              "      fill: #174EA6;\n",
              "    }\n",
              "\n",
              "    .colab-df-buttons div {\n",
              "      margin-bottom: 4px;\n",
              "    }\n",
              "\n",
              "    [theme=dark] .colab-df-convert {\n",
              "      background-color: #3B4455;\n",
              "      fill: #D2E3FC;\n",
              "    }\n",
              "\n",
              "    [theme=dark] .colab-df-convert:hover {\n",
              "      background-color: #434B5C;\n",
              "      box-shadow: 0px 1px 3px 1px rgba(0, 0, 0, 0.15);\n",
              "      filter: drop-shadow(0px 1px 2px rgba(0, 0, 0, 0.3));\n",
              "      fill: #FFFFFF;\n",
              "    }\n",
              "  </style>\n",
              "\n",
              "    <script>\n",
              "      const buttonEl =\n",
              "        document.querySelector('#df-f9184421-fcd6-4da1-9289-6bf86205b211 button.colab-df-convert');\n",
              "      buttonEl.style.display =\n",
              "        google.colab.kernel.accessAllowed ? 'block' : 'none';\n",
              "\n",
              "      async function convertToInteractive(key) {\n",
              "        const element = document.querySelector('#df-f9184421-fcd6-4da1-9289-6bf86205b211');\n",
              "        const dataTable =\n",
              "          await google.colab.kernel.invokeFunction('convertToInteractive',\n",
              "                                                    [key], {});\n",
              "        if (!dataTable) return;\n",
              "\n",
              "        const docLinkHtml = 'Like what you see? Visit the ' +\n",
              "          '<a target=\"_blank\" href=https://colab.research.google.com/notebooks/data_table.ipynb>data table notebook</a>'\n",
              "          + ' to learn more about interactive tables.';\n",
              "        element.innerHTML = '';\n",
              "        dataTable['output_type'] = 'display_data';\n",
              "        await google.colab.output.renderOutput(dataTable, element);\n",
              "        const docLink = document.createElement('div');\n",
              "        docLink.innerHTML = docLinkHtml;\n",
              "        element.appendChild(docLink);\n",
              "      }\n",
              "    </script>\n",
              "  </div>\n",
              "\n",
              "\n",
              "<div id=\"df-42bd0788-b43e-449a-ab64-a0d3158ad9b5\">\n",
              "  <button class=\"colab-df-quickchart\" onclick=\"quickchart('df-42bd0788-b43e-449a-ab64-a0d3158ad9b5')\"\n",
              "            title=\"Suggest charts\"\n",
              "            style=\"display:none;\">\n",
              "\n",
              "<svg xmlns=\"http://www.w3.org/2000/svg\" height=\"24px\"viewBox=\"0 0 24 24\"\n",
              "     width=\"24px\">\n",
              "    <g>\n",
              "        <path d=\"M19 3H5c-1.1 0-2 .9-2 2v14c0 1.1.9 2 2 2h14c1.1 0 2-.9 2-2V5c0-1.1-.9-2-2-2zM9 17H7v-7h2v7zm4 0h-2V7h2v10zm4 0h-2v-4h2v4z\"/>\n",
              "    </g>\n",
              "</svg>\n",
              "  </button>\n",
              "\n",
              "<style>\n",
              "  .colab-df-quickchart {\n",
              "      --bg-color: #E8F0FE;\n",
              "      --fill-color: #1967D2;\n",
              "      --hover-bg-color: #E2EBFA;\n",
              "      --hover-fill-color: #174EA6;\n",
              "      --disabled-fill-color: #AAA;\n",
              "      --disabled-bg-color: #DDD;\n",
              "  }\n",
              "\n",
              "  [theme=dark] .colab-df-quickchart {\n",
              "      --bg-color: #3B4455;\n",
              "      --fill-color: #D2E3FC;\n",
              "      --hover-bg-color: #434B5C;\n",
              "      --hover-fill-color: #FFFFFF;\n",
              "      --disabled-bg-color: #3B4455;\n",
              "      --disabled-fill-color: #666;\n",
              "  }\n",
              "\n",
              "  .colab-df-quickchart {\n",
              "    background-color: var(--bg-color);\n",
              "    border: none;\n",
              "    border-radius: 50%;\n",
              "    cursor: pointer;\n",
              "    display: none;\n",
              "    fill: var(--fill-color);\n",
              "    height: 32px;\n",
              "    padding: 0;\n",
              "    width: 32px;\n",
              "  }\n",
              "\n",
              "  .colab-df-quickchart:hover {\n",
              "    background-color: var(--hover-bg-color);\n",
              "    box-shadow: 0 1px 2px rgba(60, 64, 67, 0.3), 0 1px 3px 1px rgba(60, 64, 67, 0.15);\n",
              "    fill: var(--button-hover-fill-color);\n",
              "  }\n",
              "\n",
              "  .colab-df-quickchart-complete:disabled,\n",
              "  .colab-df-quickchart-complete:disabled:hover {\n",
              "    background-color: var(--disabled-bg-color);\n",
              "    fill: var(--disabled-fill-color);\n",
              "    box-shadow: none;\n",
              "  }\n",
              "\n",
              "  .colab-df-spinner {\n",
              "    border: 2px solid var(--fill-color);\n",
              "    border-color: transparent;\n",
              "    border-bottom-color: var(--fill-color);\n",
              "    animation:\n",
              "      spin 1s steps(1) infinite;\n",
              "  }\n",
              "\n",
              "  @keyframes spin {\n",
              "    0% {\n",
              "      border-color: transparent;\n",
              "      border-bottom-color: var(--fill-color);\n",
              "      border-left-color: var(--fill-color);\n",
              "    }\n",
              "    20% {\n",
              "      border-color: transparent;\n",
              "      border-left-color: var(--fill-color);\n",
              "      border-top-color: var(--fill-color);\n",
              "    }\n",
              "    30% {\n",
              "      border-color: transparent;\n",
              "      border-left-color: var(--fill-color);\n",
              "      border-top-color: var(--fill-color);\n",
              "      border-right-color: var(--fill-color);\n",
              "    }\n",
              "    40% {\n",
              "      border-color: transparent;\n",
              "      border-right-color: var(--fill-color);\n",
              "      border-top-color: var(--fill-color);\n",
              "    }\n",
              "    60% {\n",
              "      border-color: transparent;\n",
              "      border-right-color: var(--fill-color);\n",
              "    }\n",
              "    80% {\n",
              "      border-color: transparent;\n",
              "      border-right-color: var(--fill-color);\n",
              "      border-bottom-color: var(--fill-color);\n",
              "    }\n",
              "    90% {\n",
              "      border-color: transparent;\n",
              "      border-bottom-color: var(--fill-color);\n",
              "    }\n",
              "  }\n",
              "</style>\n",
              "\n",
              "  <script>\n",
              "    async function quickchart(key) {\n",
              "      const quickchartButtonEl =\n",
              "        document.querySelector('#' + key + ' button');\n",
              "      quickchartButtonEl.disabled = true;  // To prevent multiple clicks.\n",
              "      quickchartButtonEl.classList.add('colab-df-spinner');\n",
              "      try {\n",
              "        const charts = await google.colab.kernel.invokeFunction(\n",
              "            'suggestCharts', [key], {});\n",
              "      } catch (error) {\n",
              "        console.error('Error during call to suggestCharts:', error);\n",
              "      }\n",
              "      quickchartButtonEl.classList.remove('colab-df-spinner');\n",
              "      quickchartButtonEl.classList.add('colab-df-quickchart-complete');\n",
              "    }\n",
              "    (() => {\n",
              "      let quickchartButtonEl =\n",
              "        document.querySelector('#df-42bd0788-b43e-449a-ab64-a0d3158ad9b5 button');\n",
              "      quickchartButtonEl.style.display =\n",
              "        google.colab.kernel.accessAllowed ? 'block' : 'none';\n",
              "    })();\n",
              "  </script>\n",
              "</div>\n",
              "    </div>\n",
              "  </div>\n"
            ]
          },
          "metadata": {},
          "execution_count": 112
        }
      ]
    },
    {
      "cell_type": "markdown",
      "source": [
        "this code is used for getting rows and displaying in the first five rows of the data using iloc. here we  provide the starting index which is 6513 and head() function whihc shows only  5 rows from the data and its start with the location which is we provided.  this is used for only using the useful data.\n"
      ],
      "metadata": {
        "id": "JmAF48udyGi5"
      }
    },
    {
      "cell_type": "code",
      "source": [
        "scores = []\n",
        "i = 1\n",
        "for train_set, test_set in kf.split(X):\n",
        "    pipe.fit(X.loc[train_set], y[train_set])\n",
        "    sco = pipe.score(X.loc[test_set], y[test_set])\n",
        "    scores.append(sco)\n",
        "    print(\"iteration \", i)\n",
        "    i += 1"
      ],
      "metadata": {
        "colab": {
          "base_uri": "https://localhost:8080/"
        },
        "id": "hX2fdS1HLLiP",
        "outputId": "bf132863-ec92-4bae-a40c-95a83329ba6d"
      },
      "execution_count": null,
      "outputs": [
        {
          "output_type": "stream",
          "name": "stdout",
          "text": [
            "iteration  1\n",
            "iteration  2\n",
            "iteration  3\n",
            "iteration  4\n",
            "iteration  5\n"
          ]
        }
      ]
    },
    {
      "cell_type": "markdown",
      "source": [
        "this is use for  calculating the accuracy of the each iteration for the 5 fold. here, we are train the pipeline for the each of the iteration and also evaluate the accuracy of the test set. here the score is shows the accuracy for the eachof the iteration.\n",
        "\n",
        "The code calculates the accuracy scores for each iteration of a 5-fold cross-validation using the defined pipeline (`pipe`). It trains the pipeline on the training set for each iteration and evaluates the accuracy on the corresponding test set. The warning messages indicate a future deprecation related to the `sparse` parameter in the `OneHotEncoder`, suggesting that the parameter name will change in future versions of scikit-learn. The output is a list (`scores`) containing the accuracy scores for each fold."
      ],
      "metadata": {
        "id": "b8fUrjxCzD1q"
      }
    },
    {
      "cell_type": "code",
      "source": [
        "np.array(scores)"
      ],
      "metadata": {
        "colab": {
          "base_uri": "https://localhost:8080/"
        },
        "id": "TBV_0ZTLLOQ-",
        "outputId": "13d9401c-ff72-4f9e-f1f4-b7e93818c31d"
      },
      "execution_count": null,
      "outputs": [
        {
          "output_type": "execute_result",
          "data": {
            "text/plain": [
              "array([0.84784278, 0.84520885, 0.84613022, 0.84858722, 0.85165848])"
            ]
          },
          "metadata": {},
          "execution_count": 114
        }
      ]
    },
    {
      "cell_type": "markdown",
      "source": [
        "here, we are creating the array for the scores. here we are using np which is alias of numpy library for array.\n",
        "here, array[0.84784278, 0.84520885, 0.84613022, 0.84858722, 0.85165848] shows the accuracy score which is calculated after each of the iteration.  this is the performance of the our random forest model. here the accuracy is lies between 0.845 to 0.851, which shows that how our dataset is consistence and how its give us high accuracy at the each iteration folds.  \n",
        "\n"
      ],
      "metadata": {
        "id": "lJVIwp3cDgp6"
      }
    },
    {
      "cell_type": "code",
      "source": [
        "np.array(scores).mean()"
      ],
      "metadata": {
        "colab": {
          "base_uri": "https://localhost:8080/"
        },
        "id": "W8uicv0yLOT1",
        "outputId": "5bc2d94c-112a-4c43-9b00-351d6ba045a7"
      },
      "execution_count": null,
      "outputs": [
        {
          "output_type": "execute_result",
          "data": {
            "text/plain": [
              "0.8478855085142512"
            ]
          },
          "metadata": {},
          "execution_count": 115
        }
      ]
    },
    {
      "cell_type": "markdown",
      "source": [
        "here, we are calculating the mean of the above accuracy scores, which shows the average performance of the random forest model after the 5 iteration of the cross validation. this is the real calculation that how well our model perform with unseen data, focusing on the mean value its 0.847 which shows our model is perfrorming better with good pridiction accuracy of the different folds.\n"
      ],
      "metadata": {
        "id": "H6HCHeBdGv34"
      }
    },
    {
      "cell_type": "code",
      "source": [
        "np.array(scores).std()"
      ],
      "metadata": {
        "colab": {
          "base_uri": "https://localhost:8080/"
        },
        "id": "C3qRsQ6GLOWt",
        "outputId": "9b53113e-8840-48c2-9600-e1ced18f411a"
      },
      "execution_count": null,
      "outputs": [
        {
          "output_type": "execute_result",
          "data": {
            "text/plain": [
              "0.0022349531977626388"
            ]
          },
          "metadata": {},
          "execution_count": 117
        }
      ]
    },
    {
      "cell_type": "markdown",
      "source": [
        "here, we are calculating the standard deviation of the above accuracy scores, which is 0.002 shows that there is variance of distribution of the model performance for the 5 iteration of cross validation. here, the standard deviation value is lower which shows that the results are more stable and constistent, which shows that model performance is stable at each of the iteration during the cross validation.\n"
      ],
      "metadata": {
        "id": "mmYIg96RICmX"
      }
    },
    {
      "cell_type": "markdown",
      "source": [
        "###2. Stratified KFold Cross Validation"
      ],
      "metadata": {
        "id": "Uu8_Kg-zz820"
      }
    },
    {
      "cell_type": "code",
      "source": [
        "y.value_counts()"
      ],
      "metadata": {
        "colab": {
          "base_uri": "https://localhost:8080/"
        },
        "id": "0agbHSwDLOaG",
        "outputId": "134c47f1-104b-4e3f-e290-472c9883870e"
      },
      "execution_count": null,
      "outputs": [
        {
          "output_type": "execute_result",
          "data": {
            "text/plain": [
              " <=50K    24720\n",
              " >50K      7841\n",
              "Name:  income, dtype: int64"
            ]
          },
          "metadata": {},
          "execution_count": 118
        }
      ]
    },
    {
      "cell_type": "markdown",
      "source": [
        "stratified k fold cross validation is the technique where we are distributing the data into the same class same like original data. this is use for creating the model and its good if we are using the classification and evaluating the model.\n",
        "here, we are counting the y values for that we are using y,value_count().here y is the income variable which is have two classes <=50k is with 24720 and >=50k with 7841 samples. focusing on this its clearly depicts that our dataset is imbalanced where the majority of the samples are from <=50k, this is shows the distribution and highlights the technique such as stratified sample or cross validation for checking if there is bias during the model training and evaluating.\n"
      ],
      "metadata": {
        "id": "NXssQwVrJNQO"
      }
    },
    {
      "cell_type": "code",
      "source": [
        "7841/5"
      ],
      "metadata": {
        "colab": {
          "base_uri": "https://localhost:8080/"
        },
        "id": "CRgKpEUoLXrq",
        "outputId": "24ce6db8-ea53-4a7d-9db8-c28c88da5392"
      },
      "execution_count": null,
      "outputs": [
        {
          "output_type": "execute_result",
          "data": {
            "text/plain": [
              "1568.2"
            ]
          },
          "metadata": {},
          "execution_count": 119
        }
      ]
    },
    {
      "cell_type": "markdown",
      "source": [
        "here, we are calculating the number of total samples with 5 folds, where 7841/5 which calculate the 1568.2. here we are distributing the >=50k class evenly distribute over the 5 folds."
      ],
      "metadata": {
        "id": "hCsPjHBdLM3c"
      }
    },
    {
      "cell_type": "code",
      "source": [
        "24720/5"
      ],
      "metadata": {
        "colab": {
          "base_uri": "https://localhost:8080/"
        },
        "id": "r4RF46U8LaED",
        "outputId": "82af63d5-9a37-47ea-d37c-0f11fc5d8579"
      },
      "execution_count": null,
      "outputs": [
        {
          "output_type": "execute_result",
          "data": {
            "text/plain": [
              "4944.0"
            ]
          },
          "metadata": {},
          "execution_count": 120
        }
      ]
    },
    {
      "cell_type": "markdown",
      "source": [
        "here, we are calculating the number of total samples divide by the total 5 iteration where the income is <=50k where all the classes are equaly distributed for the each of the folds. here, 24720/5 is 4944.0. here, we are ensuring to have the stable data in each of the folds, which is important if we are using the stratified k fold cross validation.\n"
      ],
      "metadata": {
        "id": "n-blb_v6MnZF"
      }
    },
    {
      "cell_type": "code",
      "source": [
        "4944*4"
      ],
      "metadata": {
        "colab": {
          "base_uri": "https://localhost:8080/"
        },
        "id": "YqgcdmOkLcAM",
        "outputId": "8c959b2d-69d6-4288-9f5b-c4536c3088c2"
      },
      "execution_count": null,
      "outputs": [
        {
          "output_type": "execute_result",
          "data": {
            "text/plain": [
              "19776"
            ]
          },
          "metadata": {},
          "execution_count": 121
        }
      ]
    },
    {
      "cell_type": "markdown",
      "source": [
        "here, we are calculating the , 4944*4, 19776, this shows the total number of the examples in the <=50k of the class which is use for the training our model for 4 folds out of the 5 folds during the stratified k folds cross validation. here the remain 1 fold is use for performing the validation, which is give assurance to have the coverage of the both training and evaluation model.\n"
      ],
      "metadata": {
        "id": "9ePxiEXyNkPS"
      }
    },
    {
      "cell_type": "code",
      "source": [
        "skf = StratifiedKFold(n_splits=5)"
      ],
      "metadata": {
        "id": "OJixPmiILeBT"
      },
      "execution_count": null,
      "outputs": []
    },
    {
      "cell_type": "markdown",
      "source": [
        "here, we are just defining the stratifiedFold with n splits of 5 and creating the object of this named as skf. this is distributed in the equal order or same class distribution just like original data.  this is deal with the imbalanced dataset, this is provide more real evaluation of the model performance during the different iterations.\n"
      ],
      "metadata": {
        "id": "kyFU2vqmO15f"
      }
    },
    {
      "cell_type": "code",
      "source": [
        "scores_skf = []\n",
        "i = 1\n",
        "for train_set, test_set in skf.split(X, y):\n",
        "    pipe.fit(X.loc[train_set], y[train_set])\n",
        "    sco = pipe.score(X.loc[test_set], y[test_set])\n",
        "    scores_skf.append(sco)\n",
        "    print(\"iteration \", i)\n",
        "    i += 1"
      ],
      "metadata": {
        "colab": {
          "base_uri": "https://localhost:8080/"
        },
        "id": "oi9wwmQbLgU_",
        "outputId": "6ea2bb90-004c-4293-e261-2e02be17d8b8"
      },
      "execution_count": null,
      "outputs": [
        {
          "output_type": "stream",
          "name": "stdout",
          "text": [
            "iteration  1\n",
            "iteration  2\n",
            "iteration  3\n",
            "iteration  4\n",
            "iteration  5\n"
          ]
        }
      ]
    },
    {
      "cell_type": "markdown",
      "source": [
        "this is the stratified k fold using the skf object. here, we are  fitting our machine learning model at each of the iteration, and calculating the accuracy of the each of the iteration. here, we are using 5 iteration for fitting the model and calculating the accuracy.\n",
        "\n"
      ],
      "metadata": {
        "id": "7ZXDUfimSdJE"
      }
    },
    {
      "cell_type": "code",
      "source": [
        "scores_skf"
      ],
      "metadata": {
        "colab": {
          "base_uri": "https://localhost:8080/"
        },
        "id": "RpQVlPk9Liqr",
        "outputId": "8a34a6ef-12ba-49e0-dbba-c2827d4b08e7"
      },
      "execution_count": null,
      "outputs": [
        {
          "output_type": "execute_result",
          "data": {
            "text/plain": [
              "[0.8473821587594043,\n",
              " 0.8432125307125307,\n",
              " 0.8421375921375921,\n",
              " 0.8425982800982801,\n",
              " 0.8536547911547911]"
            ]
          },
          "metadata": {},
          "execution_count": 124
        }
      ]
    },
    {
      "cell_type": "markdown",
      "source": [
        "here, we are getting the score of the skf which is the accuracy score for the 5 iteration. [0.8473821587594043, 0.8432125307125307, 0.8421375921375921, 0.8425982800982801, 0.8536547911547911] focusing on the score our accuracy lies in between 0.842 to 0.854, which is show the consistency of the data because of the high accuracy at the different folds. this score represent the performance of the machine learning model for the each of the iteration.\n",
        "focusing on the accuracy score our model is working good because of the high accuracy.\n"
      ],
      "metadata": {
        "id": "KMeBgPhhT5-B"
      }
    },
    {
      "cell_type": "code",
      "source": [
        "i = 1\n",
        "for train_set, test_set in skf.split(X=X, y=y):\n",
        "    print(\"iteration \", i)\n",
        "    print(train_set, \" having :\" , len(train_set))\n",
        "    print(test_set, \" having :\" , len(test_set))\n",
        "    print()\n",
        "    print(\"y train counts: \\n\", y[train_set].value_counts())\n",
        "    print(\"y test counts: \\n\", y[test_set].value_counts())\n",
        "    print(\"-------------------------\")\n",
        "    i += 1"
      ],
      "metadata": {
        "colab": {
          "base_uri": "https://localhost:8080/"
        },
        "id": "GjN8S9ibLk-3",
        "outputId": "b11cd08d-099d-4371-dd4b-af4c5e85572d"
      },
      "execution_count": null,
      "outputs": [
        {
          "output_type": "stream",
          "name": "stdout",
          "text": [
            "iteration  1\n",
            "[ 6499  6500  6512 ... 32558 32559 32560]  having : 26048\n",
            "[   0    1    2 ... 6514 6515 6516]  having : 6513\n",
            "\n",
            "y train counts: \n",
            "  <=50K    19776\n",
            " >50K      6272\n",
            "Name:  income, dtype: int64\n",
            "y test counts: \n",
            "  <=50K    4944\n",
            " >50K     1569\n",
            "Name:  income, dtype: int64\n",
            "-------------------------\n",
            "iteration  2\n",
            "[    0     1     2 ... 32558 32559 32560]  having : 26049\n",
            "[ 6499  6500  6512 ... 13121 13123 13125]  having : 6512\n",
            "\n",
            "y train counts: \n",
            "  <=50K    19776\n",
            " >50K      6273\n",
            "Name:  income, dtype: int64\n",
            "y test counts: \n",
            "  <=50K    4944\n",
            " >50K     1568\n",
            "Name:  income, dtype: int64\n",
            "-------------------------\n",
            "iteration  3\n",
            "[    0     1     2 ... 32558 32559 32560]  having : 26049\n",
            "[12997 12999 13000 ... 19727 19729 19733]  having : 6512\n",
            "\n",
            "y train counts: \n",
            "  <=50K    19776\n",
            " >50K      6273\n",
            "Name:  income, dtype: int64\n",
            "y test counts: \n",
            "  <=50K    4944\n",
            " >50K     1568\n",
            "Name:  income, dtype: int64\n",
            "-------------------------\n",
            "iteration  4\n",
            "[    0     1     2 ... 32558 32559 32560]  having : 26049\n",
            "[19482 19484 19485 ... 26161 26168 26170]  having : 6512\n",
            "\n",
            "y train counts: \n",
            "  <=50K    19776\n",
            " >50K      6273\n",
            "Name:  income, dtype: int64\n",
            "y test counts: \n",
            "  <=50K    4944\n",
            " >50K     1568\n",
            "Name:  income, dtype: int64\n",
            "-------------------------\n",
            "iteration  5\n",
            "[    0     1     2 ... 26161 26168 26170]  having : 26049\n",
            "[26005 26006 26007 ... 32558 32559 32560]  having : 6512\n",
            "\n",
            "y train counts: \n",
            "  <=50K    19776\n",
            " >50K      6273\n",
            "Name:  income, dtype: int64\n",
            "y test counts: \n",
            "  <=50K    4944\n",
            " >50K     1568\n",
            "Name:  income, dtype: int64\n",
            "-------------------------\n"
          ]
        }
      ]
    },
    {
      "cell_type": "markdown",
      "source": [
        "focusing on the results its shows the 5 iteration of the straitified k fold cross validation. in each of the iteration, here  our data is splitting into two parts training and testing. at the last y count provide the satisfactory results of the income variable during the model evaluations.\n"
      ],
      "metadata": {
        "id": "zVG7Mt5KUqw0"
      }
    },
    {
      "cell_type": "code",
      "source": [
        "result_kf = cross_val_score(estimator=pipe, X=X, y=y, scoring='accuracy', cv=5)"
      ],
      "metadata": {
        "id": "aBn52oQzLnpt"
      },
      "execution_count": null,
      "outputs": []
    },
    {
      "cell_type": "markdown",
      "source": [
        "here, we are using cross validation score for performing the cross validation of the model evaluation using the pipeline. here stratified is applied because of the default behavour of the cross val score where cv is set for the integer.\n"
      ],
      "metadata": {
        "id": "FwbHte5qVUll"
      }
    },
    {
      "cell_type": "code",
      "source": [
        "result_kf"
      ],
      "metadata": {
        "colab": {
          "base_uri": "https://localhost:8080/"
        },
        "id": "Rwn9eHbKLqn6",
        "outputId": "24ef03b3-0c90-470a-df7c-813e66bdef96"
      },
      "execution_count": null,
      "outputs": [
        {
          "output_type": "execute_result",
          "data": {
            "text/plain": [
              "array([0.84738216, 0.84321253, 0.84213759, 0.84259828, 0.85365479])"
            ]
          },
          "metadata": {},
          "execution_count": 127
        }
      ]
    },
    {
      "cell_type": "markdown",
      "source": [
        "here, we are printing the accuracy score results for kf. [0.84738216, 0.84321253, 0.84213759, 0.84259828, 0.85365479]focusing on the results its clearly visible that our model is performing well and our accuracy score is also high. accuracy score is lies in between 0.842 to 0.853. this suggest that our model is performing well."
      ],
      "metadata": {
        "id": "T0flqhmZVuuB"
      }
    },
    {
      "cell_type": "markdown",
      "source": [
        "###3. Leave one out Cross Validation"
      ],
      "metadata": {
        "id": "dgX_PSMq0IeS"
      }
    },
    {
      "cell_type": "code",
      "source": [
        "start = time.time()\n",
        "result_kf10 = cross_val_score(estimator=pipe, X=X, y=y, scoring='accuracy', cv=KFold(n_splits=10))\n",
        "result_kf10\n",
        "print(\"time taken: \", time.time()-start)"
      ],
      "metadata": {
        "colab": {
          "base_uri": "https://localhost:8080/"
        },
        "id": "zQ3ySDMoLtqT",
        "outputId": "a3c005cb-e210-4cbf-d684-a1f285d844e6"
      },
      "execution_count": null,
      "outputs": [
        {
          "output_type": "stream",
          "name": "stdout",
          "text": [
            "time taken:  30.913583040237427\n"
          ]
        }
      ]
    },
    {
      "cell_type": "markdown",
      "source": [
        "Leave - one -out cross validation is use with each of the data points in the data usede as the unique test set others are use as the training data. this creates the folds as many as the data points for the each of the iteration, here model train on the all other data points.\n",
        "this is show that we are using the 10 folds for split which take 30.66 seconds for complete.\n"
      ],
      "metadata": {
        "id": "P8XJ1RztWKy8"
      }
    },
    {
      "cell_type": "code",
      "source": [
        "result_kf10"
      ],
      "metadata": {
        "colab": {
          "base_uri": "https://localhost:8080/"
        },
        "id": "lqDuvu23Lv93",
        "outputId": "167f523e-c616-4c49-f80a-9d30794efaa3"
      },
      "execution_count": null,
      "outputs": [
        {
          "output_type": "execute_result",
          "data": {
            "text/plain": [
              "array([0.83880872, 0.85165848, 0.84981572, 0.84367322, 0.85135135,\n",
              "       0.84613022, 0.84520885, 0.84797297, 0.8544226 , 0.84459459])"
            ]
          },
          "metadata": {},
          "execution_count": 55
        }
      ]
    },
    {
      "cell_type": "markdown",
      "source": [
        "here, we are getting the accuracy score for the kf10, [0.83880872, 0.85165848, 0.84981572, 0.84367322, 0.85135135,0.84613022, 0.84520885, 0.84797297, 0.8544226 , 0.84459459] this is the accuracy score which shows our model is performing well. our accuracy is lies between 0.838 to 0.854. this shows that our model is performing well."
      ],
      "metadata": {
        "id": "565-yr4mXQWX"
      }
    },
    {
      "cell_type": "code",
      "source": [
        "start = time.time()\n",
        "result_loocv = cross_val_score(estimator=pipe, X=X.head(100), y=y.head(100),\n",
        "                               scoring='accuracy', cv=LeaveOneOut())\n",
        "print(\"time taken: \", time.time()-start)"
      ],
      "metadata": {
        "colab": {
          "base_uri": "https://localhost:8080/"
        },
        "id": "Ddi84wYyMAXf",
        "outputId": "d0ae6fad-b3ed-457e-8586-b80fee89f3da"
      },
      "execution_count": null,
      "outputs": [
        {
          "output_type": "stream",
          "name": "stdout",
          "text": [
            "time taken:  4.312939405441284\n"
          ]
        }
      ]
    },
    {
      "cell_type": "markdown",
      "source": [
        "here, we are  calcualting the time taken for performing the leave one out cross validation using the pipeline on the 100 row of the data. here we are using x with head(100) and y with head(100). here, each of the data points is taken as unique test for the each of the iteration.\n",
        "\n",
        "here the time is 4.84 seconds taken for performing LOOCV. this is expensive and its fit the model for the each data seperately.\n"
      ],
      "metadata": {
        "id": "zeonh_FCXnMq"
      }
    },
    {
      "cell_type": "code",
      "source": [
        "32531/100"
      ],
      "metadata": {
        "colab": {
          "base_uri": "https://localhost:8080/"
        },
        "id": "fEuh0y0bMKby",
        "outputId": "e0ce066e-8967-435e-9ad3-0da2158e841f"
      },
      "execution_count": null,
      "outputs": [
        {
          "output_type": "execute_result",
          "data": {
            "text/plain": [
              "325.31"
            ]
          },
          "metadata": {},
          "execution_count": 131
        }
      ]
    },
    {
      "cell_type": "markdown",
      "source": [
        "here, we are dividing the total number of sample with the 100 iteration and values is calculate is 325.41."
      ],
      "metadata": {
        "id": "fTw3Ee__Yg3X"
      }
    },
    {
      "cell_type": "code",
      "source": [
        "325*8"
      ],
      "metadata": {
        "colab": {
          "base_uri": "https://localhost:8080/"
        },
        "id": "3WIQrAJiMM7q",
        "outputId": "a28c1efd-67ad-46d1-9f44-b099e40f0fef"
      },
      "execution_count": null,
      "outputs": [
        {
          "output_type": "execute_result",
          "data": {
            "text/plain": [
              "2600"
            ]
          },
          "metadata": {},
          "execution_count": 132
        }
      ]
    },
    {
      "cell_type": "markdown",
      "source": [
        "here, we are multiplying 325*8 and its calculate as 2600."
      ],
      "metadata": {
        "id": "6zIw0DzdYrSY"
      }
    },
    {
      "cell_type": "code",
      "source": [
        "325*8/60"
      ],
      "metadata": {
        "colab": {
          "base_uri": "https://localhost:8080/"
        },
        "id": "1kV51lSuMPpU",
        "outputId": "dbf20838-471d-4279-caad-5db03df870d4"
      },
      "execution_count": null,
      "outputs": [
        {
          "output_type": "execute_result",
          "data": {
            "text/plain": [
              "43.333333333333336"
            ]
          },
          "metadata": {},
          "execution_count": 133
        }
      ]
    },
    {
      "cell_type": "markdown",
      "source": [
        "here, we are calcualting the cross validation where 325*4  and divide by 60 which is 43.33.\n"
      ],
      "metadata": {
        "id": "3sYDh6XZYyoG"
      }
    },
    {
      "cell_type": "code",
      "source": [
        "result_loocv"
      ],
      "metadata": {
        "colab": {
          "base_uri": "https://localhost:8080/"
        },
        "id": "8myXkifIMSpU",
        "outputId": "8e6d9945-bcc7-4c80-d3ee-faf5fca51961"
      },
      "execution_count": null,
      "outputs": [
        {
          "output_type": "execute_result",
          "data": {
            "text/plain": [
              "array([1., 1., 1., 1., 1., 1., 1., 0., 0., 0., 0., 0., 1., 1., 0., 1., 1.,\n",
              "       1., 1., 0., 1., 1., 1., 1., 1., 1., 1., 1., 1., 1., 1., 1., 1., 1.,\n",
              "       0., 1., 1., 1., 0., 1., 1., 1., 1., 1., 1., 0., 1., 1., 1., 1., 1.,\n",
              "       1., 1., 0., 1., 0., 1., 1., 1., 1., 1., 1., 1., 0., 1., 1., 1., 0.,\n",
              "       0., 1., 1., 1., 0., 1., 1., 1., 1., 1., 1., 1., 1., 1., 1., 1., 0.,\n",
              "       1., 0., 1., 1., 1., 1., 1., 1., 1., 0., 1., 1., 0., 1., 1.])"
            ]
          },
          "metadata": {},
          "execution_count": 134
        }
      ]
    },
    {
      "cell_type": "markdown",
      "source": [
        "here , the accuracy for  LOOCV is [1., 1., 1., 1., 1., 1., 1., 0., 0., 0., 0., 0., 1., 1., 0., ...] this is the accuracy score for each of the iteration of the LOOCV. here 1.0 is correct prediction and 0.0 is incorrect prediction.\n",
        "\n",
        "this is accuracy of the each data points."
      ],
      "metadata": {
        "id": "NyT1MLJnY7jZ"
      }
    },
    {
      "cell_type": "code",
      "source": [
        "result_loocv.mean()"
      ],
      "metadata": {
        "colab": {
          "base_uri": "https://localhost:8080/"
        },
        "id": "ButtxrtFMXG7",
        "outputId": "d70cc855-c570-432f-8086-2c5130681c67"
      },
      "execution_count": null,
      "outputs": [
        {
          "output_type": "execute_result",
          "data": {
            "text/plain": [
              "0.8"
            ]
          },
          "metadata": {},
          "execution_count": 135
        }
      ]
    },
    {
      "cell_type": "markdown",
      "source": [
        "here, we are calcualting the mean of the accuracy score and here 0.8 is the mean of the accuracy score, which shows that our model is performing well with the data."
      ],
      "metadata": {
        "id": "xWpUVed8Zl9q"
      }
    },
    {
      "cell_type": "markdown",
      "source": [
        "###4. Repeated KFold Cross Validation"
      ],
      "metadata": {
        "id": "O6o8DZW30TjL"
      }
    },
    {
      "cell_type": "code",
      "source": [
        "start = time.time()\n",
        "result_rkf = cross_val_score(estimator=pipe, X=X, y=y, scoring='accuracy',\n",
        "                              cv=RepeatedKFold(n_splits=5, n_repeats=5))\n",
        "result_rkf\n",
        "print(\"time taken: \", time.time()-start)"
      ],
      "metadata": {
        "colab": {
          "base_uri": "https://localhost:8080/"
        },
        "id": "j-vZg6OfMmi_",
        "outputId": "12d9fb75-3eb9-469f-9fb5-5856843812d0"
      },
      "execution_count": null,
      "outputs": [
        {
          "output_type": "stream",
          "name": "stdout",
          "text": [
            "time taken:  64.08226180076599\n"
          ]
        }
      ]
    },
    {
      "cell_type": "markdown",
      "source": [
        "here, we are calculating the  cross validation score and for that time taken for performing the k-fold cross validation. here, time taken is 61.48 seconds."
      ],
      "metadata": {
        "id": "1bKsPdOFZzTj"
      }
    },
    {
      "cell_type": "code",
      "source": [
        "result_rkf"
      ],
      "metadata": {
        "colab": {
          "base_uri": "https://localhost:8080/"
        },
        "id": "TtfLfbJYMrLU",
        "outputId": "aa3873bd-1f4d-41d2-9c67-02bd416df489"
      },
      "execution_count": null,
      "outputs": [
        {
          "output_type": "execute_result",
          "data": {
            "text/plain": [
              "array([0.84784278, 0.84689803, 0.84766585, 0.85211916, 0.84735872,\n",
              "       0.84661446, 0.8519656 , 0.85657248, 0.84413391, 0.84213759,\n",
              "       0.84538615, 0.85165848, 0.8416769 , 0.85165848, 0.85012285,\n",
              "       0.84937817, 0.85027641, 0.84551597, 0.84566953, 0.84413391,\n",
              "       0.85122064, 0.8495086 , 0.84628378, 0.85365479, 0.84920147])"
            ]
          },
          "metadata": {},
          "execution_count": 137
        }
      ]
    },
    {
      "cell_type": "markdown",
      "source": [
        "this is the accuracy score array. focusing on the results our model is performing well because our accuracy lies in between 0.838 to 0.852."
      ],
      "metadata": {
        "id": "QKhf7FoqaHPo"
      }
    },
    {
      "cell_type": "markdown",
      "source": [
        "###5. Performing Cross validation on a training set, and then verifying our results on a seperate testset to generalize our results."
      ],
      "metadata": {
        "id": "bUHaPOl80hnr"
      }
    },
    {
      "cell_type": "code",
      "source": [
        "X_train, X_test, y_train, y_test = train_test_split(X, y, test_size=0.2, random_state=0)"
      ],
      "metadata": {
        "id": "8LjvrLiPMtS4"
      },
      "execution_count": null,
      "outputs": []
    },
    {
      "cell_type": "markdown",
      "source": [
        "here, we are splitting the dataset using the train test split () along with x and y and test size is 20% with random state is 0. and we are storing that in the four variables X_train, X_test, y_train, y_test."
      ],
      "metadata": {
        "id": "c3jSY-Zxaelh"
      }
    },
    {
      "cell_type": "code",
      "source": [
        "start = time.time()\n",
        "result_tts = cross_val_score(estimator=pipe, X=X_train, y=y_train,\n",
        "                              scoring='accuracy', cv=KFold(n_splits=5))\n",
        "print(\"time taken: \", time.time()-start)"
      ],
      "metadata": {
        "colab": {
          "base_uri": "https://localhost:8080/"
        },
        "id": "pcEbqWamMx5R",
        "outputId": "da67c3b2-ac2a-44d9-d5a5-fff03faf6123"
      },
      "execution_count": null,
      "outputs": [
        {
          "output_type": "stream",
          "name": "stdout",
          "text": [
            "time taken:  8.376204490661621\n"
          ]
        }
      ]
    },
    {
      "cell_type": "markdown",
      "source": [
        "here, we are calculating the time taken to perfom the cross validation score calculation. focusing on the results its shows that time taken for this is 9.06  seconds. here, we are using the 5 k folds or 5 iteration for performing the cross validation score calculation."
      ],
      "metadata": {
        "id": "3zhzFkJIavNi"
      }
    },
    {
      "cell_type": "code",
      "source": [
        "result_tts"
      ],
      "metadata": {
        "colab": {
          "base_uri": "https://localhost:8080/"
        },
        "id": "7qAyhI9zMz6E",
        "outputId": "c088a217-6349-4280-a48b-a61f1c4e2ec3"
      },
      "execution_count": null,
      "outputs": [
        {
          "output_type": "execute_result",
          "data": {
            "text/plain": [
              "array([0.85547025, 0.84702495, 0.84184261, 0.84661163, 0.84968324])"
            ]
          },
          "metadata": {},
          "execution_count": 140
        }
      ]
    },
    {
      "cell_type": "markdown",
      "source": [
        "here, this is the accuracy score. which suggest that our model is performing well. focusing on the results our accuracy is lies between 0.841 to 0.855. this the accuracy for iteration of the 5 folds."
      ],
      "metadata": {
        "id": "B-80WMMMbGlk"
      }
    },
    {
      "cell_type": "code",
      "source": [
        "pipe.fit(X_train, y_train)"
      ],
      "metadata": {
        "colab": {
          "base_uri": "https://localhost:8080/",
          "height": 190
        },
        "id": "b-D6dsAtM2NY",
        "outputId": "cac36abe-fe71-406e-e590-7ada83b167eb"
      },
      "execution_count": null,
      "outputs": [
        {
          "output_type": "execute_result",
          "data": {
            "text/plain": [
              "Pipeline(steps=[('ct_step',\n",
              "                 ColumnTransformer(transformers=[('rob', RobustScaler(),\n",
              "                                                  Index(['age', ' fnlwgt', ' education-num', ' capital-gain', ' capital-loss',\n",
              "       ' hours-per-week'],\n",
              "      dtype='object')),\n",
              "                                                 ('ohe',\n",
              "                                                  OneHotEncoder(handle_unknown='ignore'),\n",
              "                                                  Index([' workclass', ' education', ' marital-status', ' occupation',\n",
              "       ' relationship', ' race', ' sex', ' native-country'],\n",
              "      dtype='object'))])),\n",
              "                ('model',\n",
              "                 RandomForestClassifier(n_estimators=10, random_state=0))])"
            ],
            "text/html": [
              "<style>#sk-container-id-1 {color: black;background-color: white;}#sk-container-id-1 pre{padding: 0;}#sk-container-id-1 div.sk-toggleable {background-color: white;}#sk-container-id-1 label.sk-toggleable__label {cursor: pointer;display: block;width: 100%;margin-bottom: 0;padding: 0.3em;box-sizing: border-box;text-align: center;}#sk-container-id-1 label.sk-toggleable__label-arrow:before {content: \"▸\";float: left;margin-right: 0.25em;color: #696969;}#sk-container-id-1 label.sk-toggleable__label-arrow:hover:before {color: black;}#sk-container-id-1 div.sk-estimator:hover label.sk-toggleable__label-arrow:before {color: black;}#sk-container-id-1 div.sk-toggleable__content {max-height: 0;max-width: 0;overflow: hidden;text-align: left;background-color: #f0f8ff;}#sk-container-id-1 div.sk-toggleable__content pre {margin: 0.2em;color: black;border-radius: 0.25em;background-color: #f0f8ff;}#sk-container-id-1 input.sk-toggleable__control:checked~div.sk-toggleable__content {max-height: 200px;max-width: 100%;overflow: auto;}#sk-container-id-1 input.sk-toggleable__control:checked~label.sk-toggleable__label-arrow:before {content: \"▾\";}#sk-container-id-1 div.sk-estimator input.sk-toggleable__control:checked~label.sk-toggleable__label {background-color: #d4ebff;}#sk-container-id-1 div.sk-label input.sk-toggleable__control:checked~label.sk-toggleable__label {background-color: #d4ebff;}#sk-container-id-1 input.sk-hidden--visually {border: 0;clip: rect(1px 1px 1px 1px);clip: rect(1px, 1px, 1px, 1px);height: 1px;margin: -1px;overflow: hidden;padding: 0;position: absolute;width: 1px;}#sk-container-id-1 div.sk-estimator {font-family: monospace;background-color: #f0f8ff;border: 1px dotted black;border-radius: 0.25em;box-sizing: border-box;margin-bottom: 0.5em;}#sk-container-id-1 div.sk-estimator:hover {background-color: #d4ebff;}#sk-container-id-1 div.sk-parallel-item::after {content: \"\";width: 100%;border-bottom: 1px solid gray;flex-grow: 1;}#sk-container-id-1 div.sk-label:hover label.sk-toggleable__label {background-color: #d4ebff;}#sk-container-id-1 div.sk-serial::before {content: \"\";position: absolute;border-left: 1px solid gray;box-sizing: border-box;top: 0;bottom: 0;left: 50%;z-index: 0;}#sk-container-id-1 div.sk-serial {display: flex;flex-direction: column;align-items: center;background-color: white;padding-right: 0.2em;padding-left: 0.2em;position: relative;}#sk-container-id-1 div.sk-item {position: relative;z-index: 1;}#sk-container-id-1 div.sk-parallel {display: flex;align-items: stretch;justify-content: center;background-color: white;position: relative;}#sk-container-id-1 div.sk-item::before, #sk-container-id-1 div.sk-parallel-item::before {content: \"\";position: absolute;border-left: 1px solid gray;box-sizing: border-box;top: 0;bottom: 0;left: 50%;z-index: -1;}#sk-container-id-1 div.sk-parallel-item {display: flex;flex-direction: column;z-index: 1;position: relative;background-color: white;}#sk-container-id-1 div.sk-parallel-item:first-child::after {align-self: flex-end;width: 50%;}#sk-container-id-1 div.sk-parallel-item:last-child::after {align-self: flex-start;width: 50%;}#sk-container-id-1 div.sk-parallel-item:only-child::after {width: 0;}#sk-container-id-1 div.sk-dashed-wrapped {border: 1px dashed gray;margin: 0 0.4em 0.5em 0.4em;box-sizing: border-box;padding-bottom: 0.4em;background-color: white;}#sk-container-id-1 div.sk-label label {font-family: monospace;font-weight: bold;display: inline-block;line-height: 1.2em;}#sk-container-id-1 div.sk-label-container {text-align: center;}#sk-container-id-1 div.sk-container {/* jupyter's `normalize.less` sets `[hidden] { display: none; }` but bootstrap.min.css set `[hidden] { display: none !important; }` so we also need the `!important` here to be able to override the default hidden behavior on the sphinx rendered scikit-learn.org. See: https://github.com/scikit-learn/scikit-learn/issues/21755 */display: inline-block !important;position: relative;}#sk-container-id-1 div.sk-text-repr-fallback {display: none;}</style><div id=\"sk-container-id-1\" class=\"sk-top-container\"><div class=\"sk-text-repr-fallback\"><pre>Pipeline(steps=[(&#x27;ct_step&#x27;,\n",
              "                 ColumnTransformer(transformers=[(&#x27;rob&#x27;, RobustScaler(),\n",
              "                                                  Index([&#x27;age&#x27;, &#x27; fnlwgt&#x27;, &#x27; education-num&#x27;, &#x27; capital-gain&#x27;, &#x27; capital-loss&#x27;,\n",
              "       &#x27; hours-per-week&#x27;],\n",
              "      dtype=&#x27;object&#x27;)),\n",
              "                                                 (&#x27;ohe&#x27;,\n",
              "                                                  OneHotEncoder(handle_unknown=&#x27;ignore&#x27;),\n",
              "                                                  Index([&#x27; workclass&#x27;, &#x27; education&#x27;, &#x27; marital-status&#x27;, &#x27; occupation&#x27;,\n",
              "       &#x27; relationship&#x27;, &#x27; race&#x27;, &#x27; sex&#x27;, &#x27; native-country&#x27;],\n",
              "      dtype=&#x27;object&#x27;))])),\n",
              "                (&#x27;model&#x27;,\n",
              "                 RandomForestClassifier(n_estimators=10, random_state=0))])</pre><b>In a Jupyter environment, please rerun this cell to show the HTML representation or trust the notebook. <br />On GitHub, the HTML representation is unable to render, please try loading this page with nbviewer.org.</b></div><div class=\"sk-container\" hidden><div class=\"sk-item sk-dashed-wrapped\"><div class=\"sk-label-container\"><div class=\"sk-label sk-toggleable\"><input class=\"sk-toggleable__control sk-hidden--visually\" id=\"sk-estimator-id-1\" type=\"checkbox\" ><label for=\"sk-estimator-id-1\" class=\"sk-toggleable__label sk-toggleable__label-arrow\">Pipeline</label><div class=\"sk-toggleable__content\"><pre>Pipeline(steps=[(&#x27;ct_step&#x27;,\n",
              "                 ColumnTransformer(transformers=[(&#x27;rob&#x27;, RobustScaler(),\n",
              "                                                  Index([&#x27;age&#x27;, &#x27; fnlwgt&#x27;, &#x27; education-num&#x27;, &#x27; capital-gain&#x27;, &#x27; capital-loss&#x27;,\n",
              "       &#x27; hours-per-week&#x27;],\n",
              "      dtype=&#x27;object&#x27;)),\n",
              "                                                 (&#x27;ohe&#x27;,\n",
              "                                                  OneHotEncoder(handle_unknown=&#x27;ignore&#x27;),\n",
              "                                                  Index([&#x27; workclass&#x27;, &#x27; education&#x27;, &#x27; marital-status&#x27;, &#x27; occupation&#x27;,\n",
              "       &#x27; relationship&#x27;, &#x27; race&#x27;, &#x27; sex&#x27;, &#x27; native-country&#x27;],\n",
              "      dtype=&#x27;object&#x27;))])),\n",
              "                (&#x27;model&#x27;,\n",
              "                 RandomForestClassifier(n_estimators=10, random_state=0))])</pre></div></div></div><div class=\"sk-serial\"><div class=\"sk-item sk-dashed-wrapped\"><div class=\"sk-label-container\"><div class=\"sk-label sk-toggleable\"><input class=\"sk-toggleable__control sk-hidden--visually\" id=\"sk-estimator-id-2\" type=\"checkbox\" ><label for=\"sk-estimator-id-2\" class=\"sk-toggleable__label sk-toggleable__label-arrow\">ct_step: ColumnTransformer</label><div class=\"sk-toggleable__content\"><pre>ColumnTransformer(transformers=[(&#x27;rob&#x27;, RobustScaler(),\n",
              "                                 Index([&#x27;age&#x27;, &#x27; fnlwgt&#x27;, &#x27; education-num&#x27;, &#x27; capital-gain&#x27;, &#x27; capital-loss&#x27;,\n",
              "       &#x27; hours-per-week&#x27;],\n",
              "      dtype=&#x27;object&#x27;)),\n",
              "                                (&#x27;ohe&#x27;, OneHotEncoder(handle_unknown=&#x27;ignore&#x27;),\n",
              "                                 Index([&#x27; workclass&#x27;, &#x27; education&#x27;, &#x27; marital-status&#x27;, &#x27; occupation&#x27;,\n",
              "       &#x27; relationship&#x27;, &#x27; race&#x27;, &#x27; sex&#x27;, &#x27; native-country&#x27;],\n",
              "      dtype=&#x27;object&#x27;))])</pre></div></div></div><div class=\"sk-parallel\"><div class=\"sk-parallel-item\"><div class=\"sk-item\"><div class=\"sk-label-container\"><div class=\"sk-label sk-toggleable\"><input class=\"sk-toggleable__control sk-hidden--visually\" id=\"sk-estimator-id-3\" type=\"checkbox\" ><label for=\"sk-estimator-id-3\" class=\"sk-toggleable__label sk-toggleable__label-arrow\">rob</label><div class=\"sk-toggleable__content\"><pre>Index([&#x27;age&#x27;, &#x27; fnlwgt&#x27;, &#x27; education-num&#x27;, &#x27; capital-gain&#x27;, &#x27; capital-loss&#x27;,\n",
              "       &#x27; hours-per-week&#x27;],\n",
              "      dtype=&#x27;object&#x27;)</pre></div></div></div><div class=\"sk-serial\"><div class=\"sk-item\"><div class=\"sk-estimator sk-toggleable\"><input class=\"sk-toggleable__control sk-hidden--visually\" id=\"sk-estimator-id-4\" type=\"checkbox\" ><label for=\"sk-estimator-id-4\" class=\"sk-toggleable__label sk-toggleable__label-arrow\">RobustScaler</label><div class=\"sk-toggleable__content\"><pre>RobustScaler()</pre></div></div></div></div></div></div><div class=\"sk-parallel-item\"><div class=\"sk-item\"><div class=\"sk-label-container\"><div class=\"sk-label sk-toggleable\"><input class=\"sk-toggleable__control sk-hidden--visually\" id=\"sk-estimator-id-5\" type=\"checkbox\" ><label for=\"sk-estimator-id-5\" class=\"sk-toggleable__label sk-toggleable__label-arrow\">ohe</label><div class=\"sk-toggleable__content\"><pre>Index([&#x27; workclass&#x27;, &#x27; education&#x27;, &#x27; marital-status&#x27;, &#x27; occupation&#x27;,\n",
              "       &#x27; relationship&#x27;, &#x27; race&#x27;, &#x27; sex&#x27;, &#x27; native-country&#x27;],\n",
              "      dtype=&#x27;object&#x27;)</pre></div></div></div><div class=\"sk-serial\"><div class=\"sk-item\"><div class=\"sk-estimator sk-toggleable\"><input class=\"sk-toggleable__control sk-hidden--visually\" id=\"sk-estimator-id-6\" type=\"checkbox\" ><label for=\"sk-estimator-id-6\" class=\"sk-toggleable__label sk-toggleable__label-arrow\">OneHotEncoder</label><div class=\"sk-toggleable__content\"><pre>OneHotEncoder(handle_unknown=&#x27;ignore&#x27;)</pre></div></div></div></div></div></div></div></div><div class=\"sk-item\"><div class=\"sk-estimator sk-toggleable\"><input class=\"sk-toggleable__control sk-hidden--visually\" id=\"sk-estimator-id-7\" type=\"checkbox\" ><label for=\"sk-estimator-id-7\" class=\"sk-toggleable__label sk-toggleable__label-arrow\">RandomForestClassifier</label><div class=\"sk-toggleable__content\"><pre>RandomForestClassifier(n_estimators=10, random_state=0)</pre></div></div></div></div></div></div></div>"
            ]
          },
          "metadata": {},
          "execution_count": 141
        }
      ]
    },
    {
      "cell_type": "markdown",
      "source": [
        "here, we are trying to fit our model using X_train, y_train. pipe.fit() is use for fitting the model on the training data. this process is transforming the features with intializedcolumntransfer and now training the randomforest classifire model.\n"
      ],
      "metadata": {
        "id": "8E-2mVqnbbEy"
      }
    },
    {
      "cell_type": "code",
      "source": [
        "pipe.score(X_test, y_test)"
      ],
      "metadata": {
        "colab": {
          "base_uri": "https://localhost:8080/"
        },
        "id": "7xoTatK3M4os",
        "outputId": "1052f5b2-572a-4f0c-d30f-6e48fde15dfb"
      },
      "execution_count": null,
      "outputs": [
        {
          "output_type": "execute_result",
          "data": {
            "text/plain": [
              "0.8446184553968985"
            ]
          },
          "metadata": {},
          "execution_count": 142
        }
      ]
    },
    {
      "cell_type": "markdown",
      "source": [
        "here, we are calculating the pip score using the testing set and calculating the accuracy of the model with the test data. here, we are getting 0.84 accuracy score, which shows that 84% of the prediction are correct with this model.\n",
        "focusing on the accuracy its suggest that model performance is good.\n"
      ],
      "metadata": {
        "id": "MOSAHB96x6sU"
      }
    },
    {
      "cell_type": "code",
      "source": [
        "cross_val_score(estimator=pipe, X=X_train, y=y_train,scoring='accuracy', cv=KFold(n_splits=5))"
      ],
      "metadata": {
        "colab": {
          "base_uri": "https://localhost:8080/"
        },
        "id": "jum7LEMRM61K",
        "outputId": "f6f2264d-6e4a-4ce8-9413-00434bee5c0a"
      },
      "execution_count": null,
      "outputs": [
        {
          "output_type": "execute_result",
          "data": {
            "text/plain": [
              "array([0.85547025, 0.84702495, 0.84184261, 0.84661163, 0.84968324])"
            ]
          },
          "metadata": {},
          "execution_count": 143
        }
      ]
    },
    {
      "cell_type": "markdown",
      "source": [
        "here, we are evaluating the model performance using the machine learning model pipe with k-fold cross validation with 5 iteration on the training data.[0.8555, 0.8470, 0.8418, 0.8466, 0.8497] focusing on the accuracy score this model accuracy score lies in 0.84 to 0.85 which shows that model is predicting correct results upto 84%.  \n",
        "\n",
        "this is suggest that model is performing well with the test data."
      ],
      "metadata": {
        "id": "E4LMJKHezvtZ"
      }
    },
    {
      "cell_type": "code",
      "source": [
        "import sklearn\n",
        "sorted(sklearn.metrics.SCORERS.keys())"
      ],
      "metadata": {
        "colab": {
          "base_uri": "https://localhost:8080/"
        },
        "id": "8cTfyRsDPguG",
        "outputId": "8e9c8dcd-1b68-4435-b4ac-1920febd37ec"
      },
      "execution_count": null,
      "outputs": [
        {
          "output_type": "execute_result",
          "data": {
            "text/plain": [
              "['accuracy',\n",
              " 'adjusted_mutual_info_score',\n",
              " 'adjusted_rand_score',\n",
              " 'average_precision',\n",
              " 'balanced_accuracy',\n",
              " 'completeness_score',\n",
              " 'explained_variance',\n",
              " 'f1',\n",
              " 'f1_macro',\n",
              " 'f1_micro',\n",
              " 'f1_samples',\n",
              " 'f1_weighted',\n",
              " 'fowlkes_mallows_score',\n",
              " 'homogeneity_score',\n",
              " 'jaccard',\n",
              " 'jaccard_macro',\n",
              " 'jaccard_micro',\n",
              " 'jaccard_samples',\n",
              " 'jaccard_weighted',\n",
              " 'matthews_corrcoef',\n",
              " 'max_error',\n",
              " 'mutual_info_score',\n",
              " 'neg_brier_score',\n",
              " 'neg_log_loss',\n",
              " 'neg_mean_absolute_error',\n",
              " 'neg_mean_absolute_percentage_error',\n",
              " 'neg_mean_gamma_deviance',\n",
              " 'neg_mean_poisson_deviance',\n",
              " 'neg_mean_squared_error',\n",
              " 'neg_mean_squared_log_error',\n",
              " 'neg_median_absolute_error',\n",
              " 'neg_negative_likelihood_ratio',\n",
              " 'neg_root_mean_squared_error',\n",
              " 'normalized_mutual_info_score',\n",
              " 'positive_likelihood_ratio',\n",
              " 'precision',\n",
              " 'precision_macro',\n",
              " 'precision_micro',\n",
              " 'precision_samples',\n",
              " 'precision_weighted',\n",
              " 'r2',\n",
              " 'rand_score',\n",
              " 'recall',\n",
              " 'recall_macro',\n",
              " 'recall_micro',\n",
              " 'recall_samples',\n",
              " 'recall_weighted',\n",
              " 'roc_auc',\n",
              " 'roc_auc_ovo',\n",
              " 'roc_auc_ovo_weighted',\n",
              " 'roc_auc_ovr',\n",
              " 'roc_auc_ovr_weighted',\n",
              " 'top_k_accuracy',\n",
              " 'v_measure_score']"
            ]
          },
          "metadata": {},
          "execution_count": 144
        }
      ]
    },
    {
      "cell_type": "markdown",
      "source": [
        "herem we are importing some scoring metrics for evaluating the model. for the  \n",
        "classification metrics we are using accuracy, f1, precision, recall etc. regression metrics we are using negative mean squared error and negative mean absolute error.for clustering metrics we are using adjusted random score and adjusted mutual information score.\n"
      ],
      "metadata": {
        "id": "xE35wFt40eTw"
      }
    },
    {
      "cell_type": "markdown",
      "source": [
        "###Write your observations of the above tutorial here.**(5%)**"
      ],
      "metadata": {
        "id": "X90efSZeFMAS"
      }
    },
    {
      "cell_type": "markdown",
      "source": [
        "Here, we have use data set for income evaluation and making model and fitting model with different cross validation techniques.\n",
        "data preparation:\n",
        "first we are importing the libraries which is we are going to use in this tutorial. pandas , numpy, randomforestclassifier and matplotlib libraries are imported.\n",
        "using pandas library we are reading and loading the file. the read_csv() function is for reading the file and also displaying the first 5 row and last five rows using head() and tail(). after that we are handling missing values using the inbuild technique of placeholder.\n",
        "now, we are splitting the dataset into x and y, where x is the all columns but not drop income and y is consider income column.\n",
        "cross-validation:\n",
        "cross-validation is the techniques to use for evaluating the model performance using different cross validation techniques. here, we are going to use some of them such as k-fold cross-validation, straitified k fold cross validation and we are comparing the model and also using leave one out cross validation and repeated k fold cross validation and train test split cross validation for model training and evaluating.\n",
        "k-fold cross validation: this is\n",
        "\n",
        "\n",
        "KFold Cross-Validation:this is divide the data into the k folds and k-1 fold is used for training the model and remaining is used for testing the model with each iteration. this is repeat upto k times.\n",
        "\n",
        "straitified cross validation: this is same like k fold but this folds have equally distributed samples or classes as the entire data. this is used with the imbalance dataset.\n",
        "\n",
        "Leave-one-out-validation:  this is use all the data as the training data except one and testing the model using that 1 folds. eg. using 4 iteration for training the model and use 1 fold for testing the model.\n",
        "\n",
        "Repeated k-fold cross validation: this is extends the kfold by multiple times and this is split the data randomly. this is give more realiable performance estimation because its run multiple of the times.\n",
        "train-test split cross validation: this is splitting the data into two parts training and testing. this model is train in to the training set and evaluated in the testing set. this is majorly use for cross validation.\n",
        "\n",
        "Model training and evaluation: after performing each of the operation of the cross validation now, we are training our randomforest modle and evaluating using the train test split cross validation. here, we have use pipeline for preprocessing which is columntransformer and a randomforestclassifier.\n",
        "\n",
        "now, we are working on the performance metrics to check the performance of the model for that we have use scoring='accuracy'. here, performance is various with different cross validation techniques.\n",
        "we are also calculating the time which is taken for performing the cross validation using the different techniques such as kfold, straitfiedkfold,leave-one-out, repeatedkfold and train test split.\n",
        "Performance Metrics:\n",
        "\n",
        "now, we are testing our model for that first we are fitting our model into the pipeline and use training test.\n",
        "focusing on the model performance, accuracy for the model is 84-85% which is lies in between with different cross validation techniques.LOOCV is costly and time taking compared to others. repeated k fold shows some variance in the repeatation.\n",
        "\n",
        "all in all, here, we are using investment evaluation data for checking the model performance with different types of cross validation technique. overall model performance for all the cross validation technique is arround 84 to 85% of the accuracy score, which suggest that our model is performing well.\n"
      ],
      "metadata": {
        "id": "LiVlF_683ZNQ"
      }
    },
    {
      "cell_type": "markdown",
      "source": [
        "###**Task-1(40%)**\n",
        "#####Perform cross validation on the tutorial given using the dataset attached.After you are successful in executing and fixing the issues with the current version use dataset of your choice and execute it again."
      ],
      "metadata": {
        "id": "3MeXpwhSK9Lr"
      }
    },
    {
      "cell_type": "markdown",
      "source": [
        "###Tutorial"
      ],
      "metadata": {
        "id": "O1tQBNGcLi8J"
      }
    },
    {
      "cell_type": "code",
      "source": [
        "from sklearn.datasets import load_iris\n",
        "from sklearn.model_selection import train_test_split\n",
        "from sklearn.linear_model import LogisticRegression\n",
        "from sklearn.metrics import accuracy_score\n",
        "iris=load_iris()\n",
        "X=iris.data\n",
        "Y=iris.target\n",
        "# print(\"Size of Dataset {}\".format(len(X)))\n",
        "# logreg=LogisticRegression()\n",
        "# x_train,x_test,y_train,y_test=train_test_split(X,Y,test_size=0.3,random_state=42)\n",
        "# logreg.fit(x_train,y_train)\n",
        "# predict=logreg.predict(x_test)\n",
        "# print(\"Accuracy score on training set is {}\".format(accuracy_score(logreg.predict(x_train),y_train)))\n",
        "# print(\"Accuracy score on test set is {}\".format(accuracy_score(predict,y_test)))"
      ],
      "metadata": {
        "id": "2rdH8yr9figt"
      },
      "execution_count": null,
      "outputs": []
    },
    {
      "cell_type": "markdown",
      "source": [
        "####Monte Carlo Cross Validation"
      ],
      "metadata": {
        "id": "knQJwmrZ3UzM"
      }
    },
    {
      "cell_type": "code",
      "source": [
        "from sklearn.model_selection import ShuffleSplit,cross_val_score\n",
        "from sklearn.datasets import load_iris\n",
        "from sklearn.linear_model import LogisticRegression\n",
        "import warnings\n",
        "from sklearn.exceptions import ConvergenceWarning"
      ],
      "metadata": {
        "id": "iDbffaJWfJLo"
      },
      "execution_count": null,
      "outputs": []
    },
    {
      "cell_type": "code",
      "source": [
        "logreg=LogisticRegression(solver='sag', max_iter=1000)\n",
        "shuffle_split=ShuffleSplit(test_size=0.3,train_size=0.5,n_splits=10)\n",
        "warnings.filterwarnings(\"ignore\", category=ConvergenceWarning)"
      ],
      "metadata": {
        "id": "CCZqsw7JfKcp"
      },
      "execution_count": null,
      "outputs": []
    },
    {
      "cell_type": "code",
      "source": [
        "scores=cross_val_score(logreg,iris.data,iris.target,cv=shuffle_split)"
      ],
      "metadata": {
        "id": "BKmylSJ6fNkC"
      },
      "execution_count": null,
      "outputs": []
    },
    {
      "cell_type": "code",
      "source": [
        "print(\"cross Validation scores:n {}\".format(scores))\n",
        "print(\"Average Cross Validation score :{}\".format(scores.mean()))"
      ],
      "metadata": {
        "colab": {
          "base_uri": "https://localhost:8080/"
        },
        "id": "YE_DHX9mfliK",
        "outputId": "5e6eb8f8-5408-42c6-9fea-9c61e296ae0f"
      },
      "execution_count": null,
      "outputs": [
        {
          "output_type": "stream",
          "name": "stdout",
          "text": [
            "cross Validation scores:n [0.97777778 0.97777778 0.93333333 0.97777778 0.95555556 1.\n",
            " 0.97777778 0.95555556 0.97777778 0.97777778]\n",
            "Average Cross Validation score :0.971111111111111\n"
          ]
        }
      ]
    },
    {
      "cell_type": "markdown",
      "source": [
        "####Time Series Cross Validation"
      ],
      "metadata": {
        "id": "Ew0LtBg63ors"
      }
    },
    {
      "cell_type": "code",
      "source": [
        "import numpy as np\n",
        "from sklearn.model_selection import TimeSeriesSplit\n",
        "X = np.array([[1, 2], [3, 4], [1, 2], [3, 4], [1, 2], [3, 4]])\n",
        "y = np.array([1, 2, 3, 4, 5, 6])\n",
        "time_series = TimeSeriesSplit()\n",
        "print(time_series)\n",
        "for train_index, test_index in time_series.split(X):\n",
        "    print(\"TRAIN:\", train_index, \"TEST:\", test_index)\n",
        "    X_train, X_test = X[train_index], X[test_index]\n",
        "    y_train, y_test = y[train_index], y[test_index]"
      ],
      "metadata": {
        "colab": {
          "base_uri": "https://localhost:8080/"
        },
        "id": "XxN4JHX8lNlL",
        "outputId": "e1ce1758-34fb-4efd-a346-dae740c04c1a"
      },
      "execution_count": null,
      "outputs": [
        {
          "output_type": "stream",
          "name": "stdout",
          "text": [
            "TimeSeriesSplit(gap=0, max_train_size=None, n_splits=5, test_size=None)\n",
            "TRAIN: [0] TEST: [1]\n",
            "TRAIN: [0 1] TEST: [2]\n",
            "TRAIN: [0 1 2] TEST: [3]\n",
            "TRAIN: [0 1 2 3] TEST: [4]\n",
            "TRAIN: [0 1 2 3 4] TEST: [5]\n"
          ]
        }
      ]
    },
    {
      "cell_type": "markdown",
      "source": [
        "**OWN Dataset wine**"
      ],
      "metadata": {
        "id": "z0uYkwmVSUUs"
      }
    },
    {
      "cell_type": "code",
      "source": [
        "from sklearn.datasets import load_wine\n",
        "from sklearn.model_selection import train_test_split\n",
        "from sklearn.linear_model import LogisticRegression\n",
        "from sklearn.metrics import accuracy_score\n",
        "wine=load_wine()\n",
        "X=wine.data\n",
        "Y=wine.target"
      ],
      "metadata": {
        "id": "dUUsnhd1Ywwp"
      },
      "execution_count": null,
      "outputs": []
    },
    {
      "cell_type": "markdown",
      "source": [
        "**Monte Carlo Cross Validation**"
      ],
      "metadata": {
        "id": "6V7yhdR_aUo9"
      }
    },
    {
      "cell_type": "code",
      "source": [
        "from sklearn.model_selection import ShuffleSplit,cross_val_score\n",
        "from sklearn.datasets import load_wine\n",
        "from sklearn.linear_model import LogisticRegression"
      ],
      "metadata": {
        "id": "k2If6Pc8aV8Z"
      },
      "execution_count": null,
      "outputs": []
    },
    {
      "cell_type": "code",
      "source": [
        "logreg=LogisticRegression(solver='sag', max_iter=1000)\n",
        "shuffle_split=ShuffleSplit(test_size=0.3,train_size=0.5,n_splits=10)\n",
        "warnings.filterwarnings(\"ignore\", category=ConvergenceWarning)"
      ],
      "metadata": {
        "id": "suO_grDdaaxW"
      },
      "execution_count": null,
      "outputs": []
    },
    {
      "cell_type": "code",
      "source": [
        "scores=cross_val_score(logreg,wine.data,wine.target,cv=shuffle_split)"
      ],
      "metadata": {
        "id": "mt5ysDUsac8F"
      },
      "execution_count": null,
      "outputs": []
    },
    {
      "cell_type": "code",
      "source": [
        "print(\"cross Validation scores:n {}\".format(scores))\n",
        "print(\"Average Cross Validation score :{}\".format(scores.mean()))"
      ],
      "metadata": {
        "colab": {
          "base_uri": "https://localhost:8080/"
        },
        "id": "bzX28q0iagPe",
        "outputId": "f4864b77-16c7-48d6-dd8c-719c69803cba"
      },
      "execution_count": null,
      "outputs": [
        {
          "output_type": "stream",
          "name": "stdout",
          "text": [
            "cross Validation scores:n [0.74074074 0.74074074 0.68518519 0.74074074 0.81481481 0.77777778\n",
            " 0.74074074 0.83333333 0.81481481 0.85185185]\n",
            "Average Cross Validation score :0.7740740740740741\n"
          ]
        }
      ]
    },
    {
      "cell_type": "markdown",
      "source": [
        "**Time Series Cross Validation**"
      ],
      "metadata": {
        "id": "0-vcXW6bakAJ"
      }
    },
    {
      "cell_type": "code",
      "source": [
        "import numpy as np\n",
        "from sklearn.model_selection import TimeSeriesSplit\n",
        "X = np.array([[1, 2], [3, 4], [1, 2], [3, 4], [1, 2], [3, 4]])\n",
        "y = np.array([1, 2, 3, 4, 5, 6])\n",
        "time_series = TimeSeriesSplit()\n",
        "print(time_series)\n",
        "for train_index, test_index in time_series.split(X):\n",
        "    print(\"TRAIN:\", train_index, \"TEST:\", test_index)\n",
        "    X_train, X_test = X[train_index], X[test_index]\n",
        "    y_train, y_test = y[train_index], y[test_index]"
      ],
      "metadata": {
        "colab": {
          "base_uri": "https://localhost:8080/"
        },
        "id": "hksF8DqdalTX",
        "outputId": "2be0867f-8523-4078-fa5a-68133321cde3"
      },
      "execution_count": null,
      "outputs": [
        {
          "output_type": "stream",
          "name": "stdout",
          "text": [
            "TimeSeriesSplit(gap=0, max_train_size=None, n_splits=5, test_size=None)\n",
            "TRAIN: [0] TEST: [1]\n",
            "TRAIN: [0 1] TEST: [2]\n",
            "TRAIN: [0 1 2] TEST: [3]\n",
            "TRAIN: [0 1 2 3] TEST: [4]\n",
            "TRAIN: [0 1 2 3 4] TEST: [5]\n"
          ]
        }
      ]
    },
    {
      "cell_type": "markdown",
      "source": [
        "###**Task-2(25%)**\n",
        "###Question-2(a)  **(15)%**\n",
        "####Explain the types of cross validation techniques. Also write the pros and cons of each validation technique in detail.(7 types)."
      ],
      "metadata": {
        "id": "mhLdTe65MUPq"
      }
    },
    {
      "cell_type": "markdown",
      "source": [
        "Cross-validation is the technique use for evaluating the performance of the machine learning model with parting the data into the sub parts and evaluate the model with different subsets.\n",
        "\n",
        "1. K-Fold Cross-Validation:\n",
        "k fold cross validation is use in the machine learning for evaluating performance of the model by splitting the data into the k-equal size folds and train the model k times. here, every time each of the folds in used for testing the model while k-1 fold is used for training the model. this process is iterate k times.\n",
        "pros:\n",
        "this is more stronger model and provide accurate model performance using this method.\n",
        "model provide less impact of the randomness in the data.\n",
        "cons:\n",
        "calculating cost is higher.\n",
        "sometime its difficult for choicing the k data.\n",
        "\n",
        "2. Holdout Validation:\n",
        "this is also called as train-test split, this is use for evaluating the performance of the model. here, data is split into two parts, train and test set. here, model is train on the train set and then evaluate the model using the different test set for estimating the performance of the unknown data.\n",
        "pros:\n",
        "its easy and simple to use.\n",
        "calculation cost is lower than other techniques.\n",
        "cons:\n",
        "this is selecting the random data so may be the  data splitting is too much sensitive.\n",
        "\n",
        "3. Straitified k-fold cross validation:\n",
        "this is also similar like k-fold but this technique is ensuring that divided partition for folds are must be equal and have same classes of distribution like original data.\n",
        "pros:\n",
        "this is use with unbalanced data.\n",
        "this technique provide more accurate performance of model when its work with imbalance data and its classes distributed.\n",
        "cons:\n",
        "computing the performance is more expensive.\n",
        "\n",
        "4. Leave-out-one-cross validation:\n",
        "this is technique where the number of sample is set to  k. here, model train for all the data points and leave one out for testing the model or validating model.\n",
        "pros:\n",
        "this model is give the baised performance of the model.\n",
        "small dataset is use for this model.\n",
        "cons:\n",
        "its expensive with large amount of the data.\n",
        "results are highly variante.\n",
        "\n",
        "5. Leave p-out cross validation:\n",
        "this is same like LOOCV, only difference is p observation is not used for training  and use for validation in the each of the iteration.\n",
        "pros:\n",
        "this is less computation cost while comparing to the LOOCV.\n",
        "cons:\n",
        "its expensive, because its iterate each time with p observation with the total number of observation.\n",
        "\n",
        "6. Time-series cross validation:\n",
        "this is work with time series data, order of the data is consider here. split the data into training and validating set the way to manage the temporal order of the data.\n",
        "pros:\n",
        "this is use the real world scenarios and predictions is made depend on the future data.\n",
        "cons:\n",
        "this is only use with time series data.\n",
        "training set is increase when each time the fold iterate, its difficult if its the limited data.\n",
        "\n",
        "7. Repeated k fold cross validation:\n",
        "repeat k-fold cross validation multiple times with the different random data splits.\n",
        "pros:\n",
        "give more real performance of the model with average the results over the multiple run.\n",
        "cons:\n",
        "computing of the iteration its increase.\n"
      ],
      "metadata": {
        "id": "jN3CX6kvns25"
      }
    },
    {
      "cell_type": "markdown",
      "source": [
        "###Question-2(b)  **(10%)**\n",
        "####Provide some examples of real-world problems that require cross validation techniques?"
      ],
      "metadata": {
        "id": "_r3Yv2ycRPDy"
      }
    },
    {
      "cell_type": "markdown",
      "source": [
        "cross-validation is important for real world machine learning for evaluate the model effects.\n",
        "1. credit scoring:\n",
        "this is model for predicting the credit of each of the individuals depend on the financial and personal information.\n",
        "for evaluating the cross validation performance with different subset, check and ensure that its work well with the new credit scores with new applications.\n",
        "\n",
        "2. medical diagnosis: using patient data making model to predict the  medical condition.\n",
        "for checking the general performance of the model with the different patients data, here its ensure that model work well with the different cases.\n",
        "\n",
        "3. Sentiment Analysis with NLP:\n",
        "using natural language processing sentiment analysis model is created with sentiment such as positive, negative nad neutral of the text data.\n",
        "for evaluating the model if its working performance is better with different domains, for ensuring the performance is well with the different text data.\n",
        "\n",
        "4. Image classification in the autonomous vehicles:\n",
        "in this model is created for detecting the object in the image which is taken by camera of the autonomous vehicels.\n",
        "this model is classify the object in more accurately with different scenarios.\n",
        "\n",
        "5. financial fraud detection:\n",
        "making the model to detect the frauds in the transaction in the financial data.\n",
        "this model is help to indentify the effect in the finding the fraud transaction.\n",
        "use model for fetching the fraud patterns with different time periods and different transaction types.\n",
        "\n",
        "6. prediction in the maintenance in the manufacturing:\n",
        "create model to predict the instruments and equipments if its failure in the manufacturing process using the sensor data.\n",
        "checking that model is work well with general manners with different types of machines and production environment, this is give the more real prediction for the preventing maintenance.\n",
        "\n",
        "all in all, all this are the real world examples of prediction models use with the cross validation for getting better accurate performance of the model."
      ],
      "metadata": {
        "id": "R81yA1dDn7Lp"
      }
    },
    {
      "cell_type": "markdown",
      "source": [
        "###**Task-3(30%)**\n",
        "###Question-3(a)\n",
        "Consider a dataset with 4 samples. Perform KFold, repeated KFold and LOO Cross validations."
      ],
      "metadata": {
        "id": "52LI48UWPkYB"
      }
    },
    {
      "cell_type": "code",
      "source": [
        "import numpy as np\n",
        "import pandas as pd\n",
        "from sklearn.datasets import load_wine\n",
        "from sklearn.model_selection import KFold, RepeatedKFold, LeaveOneOut, cross_val_score\n",
        "from sklearn.ensemble import RandomForestClassifier\n",
        "from sklearn.compose import ColumnTransformer\n",
        "from sklearn.preprocessing import RobustScaler, OneHotEncoder\n",
        "from sklearn.pipeline import Pipeline\n",
        "\n",
        "\n",
        "wine = load_wine()\n",
        "\n",
        "X1 = wine.data[:4]\n",
        "y1 = wine.target[:4]\n",
        "\n",
        "num_cols1 = np.arange(X1.shape[1])\n",
        "cat_cols1 = []\n",
        "\n",
        "ct1 = ColumnTransformer([\n",
        "    ('rob', RobustScaler(), num_cols1),\n",
        "    ('ohe', OneHotEncoder(handle_unknown='ignore'), cat_cols1)\n",
        "])\n",
        "\n",
        "\n",
        "model1 = RandomForestClassifier(n_estimators=10, random_state=0)\n",
        "\n",
        "\n",
        "pipe1 = Pipeline([\n",
        "    ('ct_step', ct1),\n",
        "    ('model', model1)\n",
        "])\n",
        "\n",
        "\n",
        "kf1 = KFold(n_splits=2)\n",
        "scores_kfold1 = cross_val_score(pipe1, X1, y1, cv=kf1)\n",
        "\n",
        "\n",
        "rkf1 = RepeatedKFold(n_splits=2, n_repeats=3)\n",
        "scores_rkf1 = cross_val_score(pipe1, X1, y1, cv=rkf1)\n",
        "\n",
        "\n",
        "loo1 = LeaveOneOut()\n",
        "scores_loo1 = cross_val_score(pipe1, X1, y1, cv=loo1)\n",
        "\n",
        "\n",
        "print(\"KFold Cross-Validation Scores:\", scores_kfold1)\n",
        "print(\"###########\")\n",
        "print(\"Repeated KFold Cross-Validation Scores:\", scores_rkf1)\n",
        "print(\"###########\")\n",
        "print(\"Leave-One-Out Cross-Validation Scores:\", scores_loo1)\n"
      ],
      "metadata": {
        "colab": {
          "base_uri": "https://localhost:8080/"
        },
        "id": "sXB-ZwNurIVm",
        "outputId": "ad770853-bc21-4e5e-bfff-c09c64f2eaa7"
      },
      "execution_count": null,
      "outputs": [
        {
          "output_type": "stream",
          "name": "stdout",
          "text": [
            "KFold Cross-Validation Scores: [1. 1.]\n",
            "###########\n",
            "Repeated KFold Cross-Validation Scores: [1. 1. 1. 1. 1. 1.]\n",
            "###########\n",
            "Leave-One-Out Cross-Validation Scores: [1. 1. 1. 1.]\n"
          ]
        }
      ]
    },
    {
      "cell_type": "markdown",
      "source": [
        "**K-Fold Cross Validation:**"
      ],
      "metadata": {
        "id": "M8m1ojgdMlHz"
      }
    },
    {
      "cell_type": "code",
      "source": [
        "df1 = pd.read_csv('/content/Stores.csv', na_values=' ?')\n",
        "df1.head()\n",
        "\n"
      ],
      "metadata": {
        "colab": {
          "base_uri": "https://localhost:8080/",
          "height": 206
        },
        "id": "N5yTMFtFJO2u",
        "outputId": "6ad12ed1-f352-4fa9-c4e5-d81155a9c154"
      },
      "execution_count": null,
      "outputs": [
        {
          "output_type": "execute_result",
          "data": {
            "text/plain": [
              "   Store_ID   Store_Area  Items_Available  Daily_Customer_Count  Store_Sales\n",
              "0          1        1659             1961                   530        66490\n",
              "1          2        1461             1752                   210        39820\n",
              "2          3        1340             1609                   720        54010\n",
              "3          4        1451             1748                   620        53730\n",
              "4          5        1770             2111                   450        46620"
            ],
            "text/html": [
              "\n",
              "  <div id=\"df-2b9e8e20-b8bf-4b47-87d7-bea4dfe2f2c9\" class=\"colab-df-container\">\n",
              "    <div>\n",
              "<style scoped>\n",
              "    .dataframe tbody tr th:only-of-type {\n",
              "        vertical-align: middle;\n",
              "    }\n",
              "\n",
              "    .dataframe tbody tr th {\n",
              "        vertical-align: top;\n",
              "    }\n",
              "\n",
              "    .dataframe thead th {\n",
              "        text-align: right;\n",
              "    }\n",
              "</style>\n",
              "<table border=\"1\" class=\"dataframe\">\n",
              "  <thead>\n",
              "    <tr style=\"text-align: right;\">\n",
              "      <th></th>\n",
              "      <th>Store_ID</th>\n",
              "      <th>Store_Area</th>\n",
              "      <th>Items_Available</th>\n",
              "      <th>Daily_Customer_Count</th>\n",
              "      <th>Store_Sales</th>\n",
              "    </tr>\n",
              "  </thead>\n",
              "  <tbody>\n",
              "    <tr>\n",
              "      <th>0</th>\n",
              "      <td>1</td>\n",
              "      <td>1659</td>\n",
              "      <td>1961</td>\n",
              "      <td>530</td>\n",
              "      <td>66490</td>\n",
              "    </tr>\n",
              "    <tr>\n",
              "      <th>1</th>\n",
              "      <td>2</td>\n",
              "      <td>1461</td>\n",
              "      <td>1752</td>\n",
              "      <td>210</td>\n",
              "      <td>39820</td>\n",
              "    </tr>\n",
              "    <tr>\n",
              "      <th>2</th>\n",
              "      <td>3</td>\n",
              "      <td>1340</td>\n",
              "      <td>1609</td>\n",
              "      <td>720</td>\n",
              "      <td>54010</td>\n",
              "    </tr>\n",
              "    <tr>\n",
              "      <th>3</th>\n",
              "      <td>4</td>\n",
              "      <td>1451</td>\n",
              "      <td>1748</td>\n",
              "      <td>620</td>\n",
              "      <td>53730</td>\n",
              "    </tr>\n",
              "    <tr>\n",
              "      <th>4</th>\n",
              "      <td>5</td>\n",
              "      <td>1770</td>\n",
              "      <td>2111</td>\n",
              "      <td>450</td>\n",
              "      <td>46620</td>\n",
              "    </tr>\n",
              "  </tbody>\n",
              "</table>\n",
              "</div>\n",
              "    <div class=\"colab-df-buttons\">\n",
              "\n",
              "  <div class=\"colab-df-container\">\n",
              "    <button class=\"colab-df-convert\" onclick=\"convertToInteractive('df-2b9e8e20-b8bf-4b47-87d7-bea4dfe2f2c9')\"\n",
              "            title=\"Convert this dataframe to an interactive table.\"\n",
              "            style=\"display:none;\">\n",
              "\n",
              "  <svg xmlns=\"http://www.w3.org/2000/svg\" height=\"24px\" viewBox=\"0 -960 960 960\">\n",
              "    <path d=\"M120-120v-720h720v720H120Zm60-500h600v-160H180v160Zm220 220h160v-160H400v160Zm0 220h160v-160H400v160ZM180-400h160v-160H180v160Zm440 0h160v-160H620v160ZM180-180h160v-160H180v160Zm440 0h160v-160H620v160Z\"/>\n",
              "  </svg>\n",
              "    </button>\n",
              "\n",
              "  <style>\n",
              "    .colab-df-container {\n",
              "      display:flex;\n",
              "      gap: 12px;\n",
              "    }\n",
              "\n",
              "    .colab-df-convert {\n",
              "      background-color: #E8F0FE;\n",
              "      border: none;\n",
              "      border-radius: 50%;\n",
              "      cursor: pointer;\n",
              "      display: none;\n",
              "      fill: #1967D2;\n",
              "      height: 32px;\n",
              "      padding: 0 0 0 0;\n",
              "      width: 32px;\n",
              "    }\n",
              "\n",
              "    .colab-df-convert:hover {\n",
              "      background-color: #E2EBFA;\n",
              "      box-shadow: 0px 1px 2px rgba(60, 64, 67, 0.3), 0px 1px 3px 1px rgba(60, 64, 67, 0.15);\n",
              "      fill: #174EA6;\n",
              "    }\n",
              "\n",
              "    .colab-df-buttons div {\n",
              "      margin-bottom: 4px;\n",
              "    }\n",
              "\n",
              "    [theme=dark] .colab-df-convert {\n",
              "      background-color: #3B4455;\n",
              "      fill: #D2E3FC;\n",
              "    }\n",
              "\n",
              "    [theme=dark] .colab-df-convert:hover {\n",
              "      background-color: #434B5C;\n",
              "      box-shadow: 0px 1px 3px 1px rgba(0, 0, 0, 0.15);\n",
              "      filter: drop-shadow(0px 1px 2px rgba(0, 0, 0, 0.3));\n",
              "      fill: #FFFFFF;\n",
              "    }\n",
              "  </style>\n",
              "\n",
              "    <script>\n",
              "      const buttonEl =\n",
              "        document.querySelector('#df-2b9e8e20-b8bf-4b47-87d7-bea4dfe2f2c9 button.colab-df-convert');\n",
              "      buttonEl.style.display =\n",
              "        google.colab.kernel.accessAllowed ? 'block' : 'none';\n",
              "\n",
              "      async function convertToInteractive(key) {\n",
              "        const element = document.querySelector('#df-2b9e8e20-b8bf-4b47-87d7-bea4dfe2f2c9');\n",
              "        const dataTable =\n",
              "          await google.colab.kernel.invokeFunction('convertToInteractive',\n",
              "                                                    [key], {});\n",
              "        if (!dataTable) return;\n",
              "\n",
              "        const docLinkHtml = 'Like what you see? Visit the ' +\n",
              "          '<a target=\"_blank\" href=https://colab.research.google.com/notebooks/data_table.ipynb>data table notebook</a>'\n",
              "          + ' to learn more about interactive tables.';\n",
              "        element.innerHTML = '';\n",
              "        dataTable['output_type'] = 'display_data';\n",
              "        await google.colab.output.renderOutput(dataTable, element);\n",
              "        const docLink = document.createElement('div');\n",
              "        docLink.innerHTML = docLinkHtml;\n",
              "        element.appendChild(docLink);\n",
              "      }\n",
              "    </script>\n",
              "  </div>\n",
              "\n",
              "\n",
              "<div id=\"df-5d2a997c-4aba-4f4a-8d1a-e022a24cdbfc\">\n",
              "  <button class=\"colab-df-quickchart\" onclick=\"quickchart('df-5d2a997c-4aba-4f4a-8d1a-e022a24cdbfc')\"\n",
              "            title=\"Suggest charts\"\n",
              "            style=\"display:none;\">\n",
              "\n",
              "<svg xmlns=\"http://www.w3.org/2000/svg\" height=\"24px\"viewBox=\"0 0 24 24\"\n",
              "     width=\"24px\">\n",
              "    <g>\n",
              "        <path d=\"M19 3H5c-1.1 0-2 .9-2 2v14c0 1.1.9 2 2 2h14c1.1 0 2-.9 2-2V5c0-1.1-.9-2-2-2zM9 17H7v-7h2v7zm4 0h-2V7h2v10zm4 0h-2v-4h2v4z\"/>\n",
              "    </g>\n",
              "</svg>\n",
              "  </button>\n",
              "\n",
              "<style>\n",
              "  .colab-df-quickchart {\n",
              "      --bg-color: #E8F0FE;\n",
              "      --fill-color: #1967D2;\n",
              "      --hover-bg-color: #E2EBFA;\n",
              "      --hover-fill-color: #174EA6;\n",
              "      --disabled-fill-color: #AAA;\n",
              "      --disabled-bg-color: #DDD;\n",
              "  }\n",
              "\n",
              "  [theme=dark] .colab-df-quickchart {\n",
              "      --bg-color: #3B4455;\n",
              "      --fill-color: #D2E3FC;\n",
              "      --hover-bg-color: #434B5C;\n",
              "      --hover-fill-color: #FFFFFF;\n",
              "      --disabled-bg-color: #3B4455;\n",
              "      --disabled-fill-color: #666;\n",
              "  }\n",
              "\n",
              "  .colab-df-quickchart {\n",
              "    background-color: var(--bg-color);\n",
              "    border: none;\n",
              "    border-radius: 50%;\n",
              "    cursor: pointer;\n",
              "    display: none;\n",
              "    fill: var(--fill-color);\n",
              "    height: 32px;\n",
              "    padding: 0;\n",
              "    width: 32px;\n",
              "  }\n",
              "\n",
              "  .colab-df-quickchart:hover {\n",
              "    background-color: var(--hover-bg-color);\n",
              "    box-shadow: 0 1px 2px rgba(60, 64, 67, 0.3), 0 1px 3px 1px rgba(60, 64, 67, 0.15);\n",
              "    fill: var(--button-hover-fill-color);\n",
              "  }\n",
              "\n",
              "  .colab-df-quickchart-complete:disabled,\n",
              "  .colab-df-quickchart-complete:disabled:hover {\n",
              "    background-color: var(--disabled-bg-color);\n",
              "    fill: var(--disabled-fill-color);\n",
              "    box-shadow: none;\n",
              "  }\n",
              "\n",
              "  .colab-df-spinner {\n",
              "    border: 2px solid var(--fill-color);\n",
              "    border-color: transparent;\n",
              "    border-bottom-color: var(--fill-color);\n",
              "    animation:\n",
              "      spin 1s steps(1) infinite;\n",
              "  }\n",
              "\n",
              "  @keyframes spin {\n",
              "    0% {\n",
              "      border-color: transparent;\n",
              "      border-bottom-color: var(--fill-color);\n",
              "      border-left-color: var(--fill-color);\n",
              "    }\n",
              "    20% {\n",
              "      border-color: transparent;\n",
              "      border-left-color: var(--fill-color);\n",
              "      border-top-color: var(--fill-color);\n",
              "    }\n",
              "    30% {\n",
              "      border-color: transparent;\n",
              "      border-left-color: var(--fill-color);\n",
              "      border-top-color: var(--fill-color);\n",
              "      border-right-color: var(--fill-color);\n",
              "    }\n",
              "    40% {\n",
              "      border-color: transparent;\n",
              "      border-right-color: var(--fill-color);\n",
              "      border-top-color: var(--fill-color);\n",
              "    }\n",
              "    60% {\n",
              "      border-color: transparent;\n",
              "      border-right-color: var(--fill-color);\n",
              "    }\n",
              "    80% {\n",
              "      border-color: transparent;\n",
              "      border-right-color: var(--fill-color);\n",
              "      border-bottom-color: var(--fill-color);\n",
              "    }\n",
              "    90% {\n",
              "      border-color: transparent;\n",
              "      border-bottom-color: var(--fill-color);\n",
              "    }\n",
              "  }\n",
              "</style>\n",
              "\n",
              "  <script>\n",
              "    async function quickchart(key) {\n",
              "      const quickchartButtonEl =\n",
              "        document.querySelector('#' + key + ' button');\n",
              "      quickchartButtonEl.disabled = true;  // To prevent multiple clicks.\n",
              "      quickchartButtonEl.classList.add('colab-df-spinner');\n",
              "      try {\n",
              "        const charts = await google.colab.kernel.invokeFunction(\n",
              "            'suggestCharts', [key], {});\n",
              "      } catch (error) {\n",
              "        console.error('Error during call to suggestCharts:', error);\n",
              "      }\n",
              "      quickchartButtonEl.classList.remove('colab-df-spinner');\n",
              "      quickchartButtonEl.classList.add('colab-df-quickchart-complete');\n",
              "    }\n",
              "    (() => {\n",
              "      let quickchartButtonEl =\n",
              "        document.querySelector('#df-5d2a997c-4aba-4f4a-8d1a-e022a24cdbfc button');\n",
              "      quickchartButtonEl.style.display =\n",
              "        google.colab.kernel.accessAllowed ? 'block' : 'none';\n",
              "    })();\n",
              "  </script>\n",
              "</div>\n",
              "    </div>\n",
              "  </div>\n"
            ]
          },
          "metadata": {},
          "execution_count": 163
        }
      ]
    },
    {
      "cell_type": "code",
      "source": [
        "df1.isna().sum()\n",
        "df1.fillna('missing', inplace=True)\n",
        "df1.isna().sum()\n",
        "\n"
      ],
      "metadata": {
        "colab": {
          "base_uri": "https://localhost:8080/"
        },
        "id": "HTpAdmrdLjjg",
        "outputId": "9618dbbd-0bcc-4c96-8069-4b38ac42fb1b"
      },
      "execution_count": null,
      "outputs": [
        {
          "output_type": "execute_result",
          "data": {
            "text/plain": [
              "Store_ID                0\n",
              "Store_Area              0\n",
              "Items_Available         0\n",
              "Daily_Customer_Count    0\n",
              "Store_Sales             0\n",
              "dtype: int64"
            ]
          },
          "metadata": {},
          "execution_count": 164
        }
      ]
    },
    {
      "cell_type": "code",
      "source": [
        "X1 = df1.drop('Store_Sales', axis=1)\n",
        "y1 = df1['Store_Sales']\n",
        "kf1 = KFold(n_splits=4)\n",
        "\n",
        "i = 1\n",
        "for train_set, test_set in kf1.split(X=X1):  # Fix the variable name here\n",
        "    print(\"iteration \", i)\n",
        "    print(train_set, \" having:\", len(train_set))\n",
        "    print(test_set, \" having:\", len(test_set))\n",
        "    print(\"-------------------------\")\n",
        "    i += 1\n",
        "\n",
        "num_cols1 = X1.select_dtypes(include=np.number).columns  # Fix the variable name here\n",
        "cat_cols1 = X1.select_dtypes(exclude=np.number).columns  # Fix the variable name here\n",
        "\n",
        "ct1 = ColumnTransformer([\n",
        "    ('rob', RobustScaler(), num_cols1),\n",
        "    ('ohe', OneHotEncoder(handle_unknown='ignore'), cat_cols1)\n",
        "])\n",
        "\n",
        "pipe1 = Pipeline([\n",
        "    ('ct_step', ct1),\n",
        "    ('model', RandomForestClassifier(n_estimators=10, random_state=0))\n",
        "])\n",
        "\n",
        "scores = []\n",
        "i = 1\n",
        "for train_set, test_set in kf1.split(X1):  # Fix the variable name here\n",
        "    pipe1.fit(X1.loc[train_set], y1[train_set])\n",
        "    sco = pipe1.score(X1.loc[test_set], y1[test_set])\n",
        "    scores.append(sco)\n",
        "    print(\"iteration \", i)\n",
        "    i += 1\n",
        "\n",
        "np.array(scores)\n",
        "np.array(scores).mean()\n",
        "np.array(scores).std()\n"
      ],
      "metadata": {
        "colab": {
          "base_uri": "https://localhost:8080/"
        },
        "id": "Pw6q-M7QLmmy",
        "outputId": "ee16c78a-f7bf-448c-9760-96769677e787"
      },
      "execution_count": null,
      "outputs": [
        {
          "output_type": "stream",
          "name": "stdout",
          "text": [
            "iteration  1\n",
            "[225 226 227 228 229 230 231 232 233 234 235 236 237 238 239 240 241 242\n",
            " 243 244 245 246 247 248 249 250 251 252 253 254 255 256 257 258 259 260\n",
            " 261 262 263 264 265 266 267 268 269 270 271 272 273 274 275 276 277 278\n",
            " 279 280 281 282 283 284 285 286 287 288 289 290 291 292 293 294 295 296\n",
            " 297 298 299 300 301 302 303 304 305 306 307 308 309 310 311 312 313 314\n",
            " 315 316 317 318 319 320 321 322 323 324 325 326 327 328 329 330 331 332\n",
            " 333 334 335 336 337 338 339 340 341 342 343 344 345 346 347 348 349 350\n",
            " 351 352 353 354 355 356 357 358 359 360 361 362 363 364 365 366 367 368\n",
            " 369 370 371 372 373 374 375 376 377 378 379 380 381 382 383 384 385 386\n",
            " 387 388 389 390 391 392 393 394 395 396 397 398 399 400 401 402 403 404\n",
            " 405 406 407 408 409 410 411 412 413 414 415 416 417 418 419 420 421 422\n",
            " 423 424 425 426 427 428 429 430 431 432 433 434 435 436 437 438 439 440\n",
            " 441 442 443 444 445 446 447 448 449 450 451 452 453 454 455 456 457 458\n",
            " 459 460 461 462 463 464 465 466 467 468 469 470 471 472 473 474 475 476\n",
            " 477 478 479 480 481 482 483 484 485 486 487 488 489 490 491 492 493 494\n",
            " 495 496 497 498 499 500 501 502 503 504 505 506 507 508 509 510 511 512\n",
            " 513 514 515 516 517 518 519 520 521 522 523 524 525 526 527 528 529 530\n",
            " 531 532 533 534 535 536 537 538 539 540 541 542 543 544 545 546 547 548\n",
            " 549 550 551 552 553 554 555 556 557 558 559 560 561 562 563 564 565 566\n",
            " 567 568 569 570 571 572 573 574 575 576 577 578 579 580 581 582 583 584\n",
            " 585 586 587 588 589 590 591 592 593 594 595 596 597 598 599 600 601 602\n",
            " 603 604 605 606 607 608 609 610 611 612 613 614 615 616 617 618 619 620\n",
            " 621 622 623 624 625 626 627 628 629 630 631 632 633 634 635 636 637 638\n",
            " 639 640 641 642 643 644 645 646 647 648 649 650 651 652 653 654 655 656\n",
            " 657 658 659 660 661 662 663 664 665 666 667 668 669 670 671 672 673 674\n",
            " 675 676 677 678 679 680 681 682 683 684 685 686 687 688 689 690 691 692\n",
            " 693 694 695 696 697 698 699 700 701 702 703 704 705 706 707 708 709 710\n",
            " 711 712 713 714 715 716 717 718 719 720 721 722 723 724 725 726 727 728\n",
            " 729 730 731 732 733 734 735 736 737 738 739 740 741 742 743 744 745 746\n",
            " 747 748 749 750 751 752 753 754 755 756 757 758 759 760 761 762 763 764\n",
            " 765 766 767 768 769 770 771 772 773 774 775 776 777 778 779 780 781 782\n",
            " 783 784 785 786 787 788 789 790 791 792 793 794 795 796 797 798 799 800\n",
            " 801 802 803 804 805 806 807 808 809 810 811 812 813 814 815 816 817 818\n",
            " 819 820 821 822 823 824 825 826 827 828 829 830 831 832 833 834 835 836\n",
            " 837 838 839 840 841 842 843 844 845 846 847 848 849 850 851 852 853 854\n",
            " 855 856 857 858 859 860 861 862 863 864 865 866 867 868 869 870 871 872\n",
            " 873 874 875 876 877 878 879 880 881 882 883 884 885 886 887 888 889 890\n",
            " 891 892 893 894 895 896 897 898 899]  having: 675\n",
            "[  0   1   2   3   4   5   6   7   8   9  10  11  12  13  14  15  16  17\n",
            "  18  19  20  21  22  23  24  25  26  27  28  29  30  31  32  33  34  35\n",
            "  36  37  38  39  40  41  42  43  44  45  46  47  48  49  50  51  52  53\n",
            "  54  55  56  57  58  59  60  61  62  63  64  65  66  67  68  69  70  71\n",
            "  72  73  74  75  76  77  78  79  80  81  82  83  84  85  86  87  88  89\n",
            "  90  91  92  93  94  95  96  97  98  99 100 101 102 103 104 105 106 107\n",
            " 108 109 110 111 112 113 114 115 116 117 118 119 120 121 122 123 124 125\n",
            " 126 127 128 129 130 131 132 133 134 135 136 137 138 139 140 141 142 143\n",
            " 144 145 146 147 148 149 150 151 152 153 154 155 156 157 158 159 160 161\n",
            " 162 163 164 165 166 167 168 169 170 171 172 173 174 175 176 177 178 179\n",
            " 180 181 182 183 184 185 186 187 188 189 190 191 192 193 194 195 196 197\n",
            " 198 199 200 201 202 203 204 205 206 207 208 209 210 211 212 213 214 215\n",
            " 216 217 218 219 220 221 222 223 224]  having: 225\n",
            "-------------------------\n",
            "iteration  2\n",
            "[  0   1   2   3   4   5   6   7   8   9  10  11  12  13  14  15  16  17\n",
            "  18  19  20  21  22  23  24  25  26  27  28  29  30  31  32  33  34  35\n",
            "  36  37  38  39  40  41  42  43  44  45  46  47  48  49  50  51  52  53\n",
            "  54  55  56  57  58  59  60  61  62  63  64  65  66  67  68  69  70  71\n",
            "  72  73  74  75  76  77  78  79  80  81  82  83  84  85  86  87  88  89\n",
            "  90  91  92  93  94  95  96  97  98  99 100 101 102 103 104 105 106 107\n",
            " 108 109 110 111 112 113 114 115 116 117 118 119 120 121 122 123 124 125\n",
            " 126 127 128 129 130 131 132 133 134 135 136 137 138 139 140 141 142 143\n",
            " 144 145 146 147 148 149 150 151 152 153 154 155 156 157 158 159 160 161\n",
            " 162 163 164 165 166 167 168 169 170 171 172 173 174 175 176 177 178 179\n",
            " 180 181 182 183 184 185 186 187 188 189 190 191 192 193 194 195 196 197\n",
            " 198 199 200 201 202 203 204 205 206 207 208 209 210 211 212 213 214 215\n",
            " 216 217 218 219 220 221 222 223 224 450 451 452 453 454 455 456 457 458\n",
            " 459 460 461 462 463 464 465 466 467 468 469 470 471 472 473 474 475 476\n",
            " 477 478 479 480 481 482 483 484 485 486 487 488 489 490 491 492 493 494\n",
            " 495 496 497 498 499 500 501 502 503 504 505 506 507 508 509 510 511 512\n",
            " 513 514 515 516 517 518 519 520 521 522 523 524 525 526 527 528 529 530\n",
            " 531 532 533 534 535 536 537 538 539 540 541 542 543 544 545 546 547 548\n",
            " 549 550 551 552 553 554 555 556 557 558 559 560 561 562 563 564 565 566\n",
            " 567 568 569 570 571 572 573 574 575 576 577 578 579 580 581 582 583 584\n",
            " 585 586 587 588 589 590 591 592 593 594 595 596 597 598 599 600 601 602\n",
            " 603 604 605 606 607 608 609 610 611 612 613 614 615 616 617 618 619 620\n",
            " 621 622 623 624 625 626 627 628 629 630 631 632 633 634 635 636 637 638\n",
            " 639 640 641 642 643 644 645 646 647 648 649 650 651 652 653 654 655 656\n",
            " 657 658 659 660 661 662 663 664 665 666 667 668 669 670 671 672 673 674\n",
            " 675 676 677 678 679 680 681 682 683 684 685 686 687 688 689 690 691 692\n",
            " 693 694 695 696 697 698 699 700 701 702 703 704 705 706 707 708 709 710\n",
            " 711 712 713 714 715 716 717 718 719 720 721 722 723 724 725 726 727 728\n",
            " 729 730 731 732 733 734 735 736 737 738 739 740 741 742 743 744 745 746\n",
            " 747 748 749 750 751 752 753 754 755 756 757 758 759 760 761 762 763 764\n",
            " 765 766 767 768 769 770 771 772 773 774 775 776 777 778 779 780 781 782\n",
            " 783 784 785 786 787 788 789 790 791 792 793 794 795 796 797 798 799 800\n",
            " 801 802 803 804 805 806 807 808 809 810 811 812 813 814 815 816 817 818\n",
            " 819 820 821 822 823 824 825 826 827 828 829 830 831 832 833 834 835 836\n",
            " 837 838 839 840 841 842 843 844 845 846 847 848 849 850 851 852 853 854\n",
            " 855 856 857 858 859 860 861 862 863 864 865 866 867 868 869 870 871 872\n",
            " 873 874 875 876 877 878 879 880 881 882 883 884 885 886 887 888 889 890\n",
            " 891 892 893 894 895 896 897 898 899]  having: 675\n",
            "[225 226 227 228 229 230 231 232 233 234 235 236 237 238 239 240 241 242\n",
            " 243 244 245 246 247 248 249 250 251 252 253 254 255 256 257 258 259 260\n",
            " 261 262 263 264 265 266 267 268 269 270 271 272 273 274 275 276 277 278\n",
            " 279 280 281 282 283 284 285 286 287 288 289 290 291 292 293 294 295 296\n",
            " 297 298 299 300 301 302 303 304 305 306 307 308 309 310 311 312 313 314\n",
            " 315 316 317 318 319 320 321 322 323 324 325 326 327 328 329 330 331 332\n",
            " 333 334 335 336 337 338 339 340 341 342 343 344 345 346 347 348 349 350\n",
            " 351 352 353 354 355 356 357 358 359 360 361 362 363 364 365 366 367 368\n",
            " 369 370 371 372 373 374 375 376 377 378 379 380 381 382 383 384 385 386\n",
            " 387 388 389 390 391 392 393 394 395 396 397 398 399 400 401 402 403 404\n",
            " 405 406 407 408 409 410 411 412 413 414 415 416 417 418 419 420 421 422\n",
            " 423 424 425 426 427 428 429 430 431 432 433 434 435 436 437 438 439 440\n",
            " 441 442 443 444 445 446 447 448 449]  having: 225\n",
            "-------------------------\n",
            "iteration  3\n",
            "[  0   1   2   3   4   5   6   7   8   9  10  11  12  13  14  15  16  17\n",
            "  18  19  20  21  22  23  24  25  26  27  28  29  30  31  32  33  34  35\n",
            "  36  37  38  39  40  41  42  43  44  45  46  47  48  49  50  51  52  53\n",
            "  54  55  56  57  58  59  60  61  62  63  64  65  66  67  68  69  70  71\n",
            "  72  73  74  75  76  77  78  79  80  81  82  83  84  85  86  87  88  89\n",
            "  90  91  92  93  94  95  96  97  98  99 100 101 102 103 104 105 106 107\n",
            " 108 109 110 111 112 113 114 115 116 117 118 119 120 121 122 123 124 125\n",
            " 126 127 128 129 130 131 132 133 134 135 136 137 138 139 140 141 142 143\n",
            " 144 145 146 147 148 149 150 151 152 153 154 155 156 157 158 159 160 161\n",
            " 162 163 164 165 166 167 168 169 170 171 172 173 174 175 176 177 178 179\n",
            " 180 181 182 183 184 185 186 187 188 189 190 191 192 193 194 195 196 197\n",
            " 198 199 200 201 202 203 204 205 206 207 208 209 210 211 212 213 214 215\n",
            " 216 217 218 219 220 221 222 223 224 225 226 227 228 229 230 231 232 233\n",
            " 234 235 236 237 238 239 240 241 242 243 244 245 246 247 248 249 250 251\n",
            " 252 253 254 255 256 257 258 259 260 261 262 263 264 265 266 267 268 269\n",
            " 270 271 272 273 274 275 276 277 278 279 280 281 282 283 284 285 286 287\n",
            " 288 289 290 291 292 293 294 295 296 297 298 299 300 301 302 303 304 305\n",
            " 306 307 308 309 310 311 312 313 314 315 316 317 318 319 320 321 322 323\n",
            " 324 325 326 327 328 329 330 331 332 333 334 335 336 337 338 339 340 341\n",
            " 342 343 344 345 346 347 348 349 350 351 352 353 354 355 356 357 358 359\n",
            " 360 361 362 363 364 365 366 367 368 369 370 371 372 373 374 375 376 377\n",
            " 378 379 380 381 382 383 384 385 386 387 388 389 390 391 392 393 394 395\n",
            " 396 397 398 399 400 401 402 403 404 405 406 407 408 409 410 411 412 413\n",
            " 414 415 416 417 418 419 420 421 422 423 424 425 426 427 428 429 430 431\n",
            " 432 433 434 435 436 437 438 439 440 441 442 443 444 445 446 447 448 449\n",
            " 675 676 677 678 679 680 681 682 683 684 685 686 687 688 689 690 691 692\n",
            " 693 694 695 696 697 698 699 700 701 702 703 704 705 706 707 708 709 710\n",
            " 711 712 713 714 715 716 717 718 719 720 721 722 723 724 725 726 727 728\n",
            " 729 730 731 732 733 734 735 736 737 738 739 740 741 742 743 744 745 746\n",
            " 747 748 749 750 751 752 753 754 755 756 757 758 759 760 761 762 763 764\n",
            " 765 766 767 768 769 770 771 772 773 774 775 776 777 778 779 780 781 782\n",
            " 783 784 785 786 787 788 789 790 791 792 793 794 795 796 797 798 799 800\n",
            " 801 802 803 804 805 806 807 808 809 810 811 812 813 814 815 816 817 818\n",
            " 819 820 821 822 823 824 825 826 827 828 829 830 831 832 833 834 835 836\n",
            " 837 838 839 840 841 842 843 844 845 846 847 848 849 850 851 852 853 854\n",
            " 855 856 857 858 859 860 861 862 863 864 865 866 867 868 869 870 871 872\n",
            " 873 874 875 876 877 878 879 880 881 882 883 884 885 886 887 888 889 890\n",
            " 891 892 893 894 895 896 897 898 899]  having: 675\n",
            "[450 451 452 453 454 455 456 457 458 459 460 461 462 463 464 465 466 467\n",
            " 468 469 470 471 472 473 474 475 476 477 478 479 480 481 482 483 484 485\n",
            " 486 487 488 489 490 491 492 493 494 495 496 497 498 499 500 501 502 503\n",
            " 504 505 506 507 508 509 510 511 512 513 514 515 516 517 518 519 520 521\n",
            " 522 523 524 525 526 527 528 529 530 531 532 533 534 535 536 537 538 539\n",
            " 540 541 542 543 544 545 546 547 548 549 550 551 552 553 554 555 556 557\n",
            " 558 559 560 561 562 563 564 565 566 567 568 569 570 571 572 573 574 575\n",
            " 576 577 578 579 580 581 582 583 584 585 586 587 588 589 590 591 592 593\n",
            " 594 595 596 597 598 599 600 601 602 603 604 605 606 607 608 609 610 611\n",
            " 612 613 614 615 616 617 618 619 620 621 622 623 624 625 626 627 628 629\n",
            " 630 631 632 633 634 635 636 637 638 639 640 641 642 643 644 645 646 647\n",
            " 648 649 650 651 652 653 654 655 656 657 658 659 660 661 662 663 664 665\n",
            " 666 667 668 669 670 671 672 673 674]  having: 225\n",
            "-------------------------\n",
            "iteration  4\n",
            "[  0   1   2   3   4   5   6   7   8   9  10  11  12  13  14  15  16  17\n",
            "  18  19  20  21  22  23  24  25  26  27  28  29  30  31  32  33  34  35\n",
            "  36  37  38  39  40  41  42  43  44  45  46  47  48  49  50  51  52  53\n",
            "  54  55  56  57  58  59  60  61  62  63  64  65  66  67  68  69  70  71\n",
            "  72  73  74  75  76  77  78  79  80  81  82  83  84  85  86  87  88  89\n",
            "  90  91  92  93  94  95  96  97  98  99 100 101 102 103 104 105 106 107\n",
            " 108 109 110 111 112 113 114 115 116 117 118 119 120 121 122 123 124 125\n",
            " 126 127 128 129 130 131 132 133 134 135 136 137 138 139 140 141 142 143\n",
            " 144 145 146 147 148 149 150 151 152 153 154 155 156 157 158 159 160 161\n",
            " 162 163 164 165 166 167 168 169 170 171 172 173 174 175 176 177 178 179\n",
            " 180 181 182 183 184 185 186 187 188 189 190 191 192 193 194 195 196 197\n",
            " 198 199 200 201 202 203 204 205 206 207 208 209 210 211 212 213 214 215\n",
            " 216 217 218 219 220 221 222 223 224 225 226 227 228 229 230 231 232 233\n",
            " 234 235 236 237 238 239 240 241 242 243 244 245 246 247 248 249 250 251\n",
            " 252 253 254 255 256 257 258 259 260 261 262 263 264 265 266 267 268 269\n",
            " 270 271 272 273 274 275 276 277 278 279 280 281 282 283 284 285 286 287\n",
            " 288 289 290 291 292 293 294 295 296 297 298 299 300 301 302 303 304 305\n",
            " 306 307 308 309 310 311 312 313 314 315 316 317 318 319 320 321 322 323\n",
            " 324 325 326 327 328 329 330 331 332 333 334 335 336 337 338 339 340 341\n",
            " 342 343 344 345 346 347 348 349 350 351 352 353 354 355 356 357 358 359\n",
            " 360 361 362 363 364 365 366 367 368 369 370 371 372 373 374 375 376 377\n",
            " 378 379 380 381 382 383 384 385 386 387 388 389 390 391 392 393 394 395\n",
            " 396 397 398 399 400 401 402 403 404 405 406 407 408 409 410 411 412 413\n",
            " 414 415 416 417 418 419 420 421 422 423 424 425 426 427 428 429 430 431\n",
            " 432 433 434 435 436 437 438 439 440 441 442 443 444 445 446 447 448 449\n",
            " 450 451 452 453 454 455 456 457 458 459 460 461 462 463 464 465 466 467\n",
            " 468 469 470 471 472 473 474 475 476 477 478 479 480 481 482 483 484 485\n",
            " 486 487 488 489 490 491 492 493 494 495 496 497 498 499 500 501 502 503\n",
            " 504 505 506 507 508 509 510 511 512 513 514 515 516 517 518 519 520 521\n",
            " 522 523 524 525 526 527 528 529 530 531 532 533 534 535 536 537 538 539\n",
            " 540 541 542 543 544 545 546 547 548 549 550 551 552 553 554 555 556 557\n",
            " 558 559 560 561 562 563 564 565 566 567 568 569 570 571 572 573 574 575\n",
            " 576 577 578 579 580 581 582 583 584 585 586 587 588 589 590 591 592 593\n",
            " 594 595 596 597 598 599 600 601 602 603 604 605 606 607 608 609 610 611\n",
            " 612 613 614 615 616 617 618 619 620 621 622 623 624 625 626 627 628 629\n",
            " 630 631 632 633 634 635 636 637 638 639 640 641 642 643 644 645 646 647\n",
            " 648 649 650 651 652 653 654 655 656 657 658 659 660 661 662 663 664 665\n",
            " 666 667 668 669 670 671 672 673 674]  having: 675\n",
            "[675 676 677 678 679 680 681 682 683 684 685 686 687 688 689 690 691 692\n",
            " 693 694 695 696 697 698 699 700 701 702 703 704 705 706 707 708 709 710\n",
            " 711 712 713 714 715 716 717 718 719 720 721 722 723 724 725 726 727 728\n",
            " 729 730 731 732 733 734 735 736 737 738 739 740 741 742 743 744 745 746\n",
            " 747 748 749 750 751 752 753 754 755 756 757 758 759 760 761 762 763 764\n",
            " 765 766 767 768 769 770 771 772 773 774 775 776 777 778 779 780 781 782\n",
            " 783 784 785 786 787 788 789 790 791 792 793 794 795 796 797 798 799 800\n",
            " 801 802 803 804 805 806 807 808 809 810 811 812 813 814 815 816 817 818\n",
            " 819 820 821 822 823 824 825 826 827 828 829 830 831 832 833 834 835 836\n",
            " 837 838 839 840 841 842 843 844 845 846 847 848 849 850 851 852 853 854\n",
            " 855 856 857 858 859 860 861 862 863 864 865 866 867 868 869 870 871 872\n",
            " 873 874 875 876 877 878 879 880 881 882 883 884 885 886 887 888 889 890\n",
            " 891 892 893 894 895 896 897 898 899]  having: 225\n",
            "-------------------------\n",
            "iteration  1\n",
            "iteration  2\n",
            "iteration  3\n",
            "iteration  4\n"
          ]
        },
        {
          "output_type": "execute_result",
          "data": {
            "text/plain": [
              "0.0019245008972987524"
            ]
          },
          "metadata": {},
          "execution_count": 165
        }
      ]
    },
    {
      "cell_type": "markdown",
      "source": [
        "**Leave one out Cross Validation:**"
      ],
      "metadata": {
        "id": "MUG2czP7Mslx"
      }
    },
    {
      "cell_type": "code",
      "source": [
        "start = time.time()\n",
        "result_kf101 = cross_val_score(estimator=pipe1, X=X1, y=y1, scoring='accuracy', cv=KFold(n_splits=10))\n",
        "result_kf101\n",
        "print(\"time taken: \", time.time()-start)\n"
      ],
      "metadata": {
        "colab": {
          "base_uri": "https://localhost:8080/"
        },
        "id": "uhwDahSQMu1E",
        "outputId": "1a0721e6-cd34-4c70-fd57-3328b27f31f5"
      },
      "execution_count": null,
      "outputs": [
        {
          "output_type": "stream",
          "name": "stdout",
          "text": [
            "time taken:  4.980360507965088\n"
          ]
        }
      ]
    },
    {
      "cell_type": "code",
      "source": [
        "result_kf101"
      ],
      "metadata": {
        "colab": {
          "base_uri": "https://localhost:8080/"
        },
        "id": "F_HSzD2fQ844",
        "outputId": "fff63e7c-70e2-43e3-c41d-8b8befb48221"
      },
      "execution_count": null,
      "outputs": [
        {
          "output_type": "execute_result",
          "data": {
            "text/plain": [
              "array([0.        , 0.        , 0.        , 0.        , 0.        ,\n",
              "       0.        , 0.01111111, 0.        , 0.        , 0.        ])"
            ]
          },
          "metadata": {},
          "execution_count": 167
        }
      ]
    },
    {
      "cell_type": "code",
      "source": [
        "start = time.time()\n",
        "result_loocv1 = cross_val_score(estimator=pipe1, X=X1.head(4), y=y1.head(4),\n",
        "                               scoring='accuracy', cv=LeaveOneOut())\n",
        "print(\"time taken: \", time.time()-start)"
      ],
      "metadata": {
        "colab": {
          "base_uri": "https://localhost:8080/"
        },
        "id": "YxrjtQKlRIQP",
        "outputId": "42817670-f0d3-4bed-bf62-66d00c4e1768"
      },
      "execution_count": null,
      "outputs": [
        {
          "output_type": "stream",
          "name": "stdout",
          "text": [
            "time taken:  0.12142229080200195\n"
          ]
        }
      ]
    },
    {
      "cell_type": "code",
      "source": [
        "start = time.time()\n",
        "result_loocv = cross_val_score(estimator=pipe1, X=X1.head(4), y=y1.head(4),\n",
        "                               scoring='accuracy', cv=LeaveOneOut())\n",
        "print(\"time taken: \", time.time()-start)"
      ],
      "metadata": {
        "colab": {
          "base_uri": "https://localhost:8080/"
        },
        "id": "TE-KHGJ0RU3p",
        "outputId": "4097d23a-29a5-4de2-f6e4-628649833a5f"
      },
      "execution_count": null,
      "outputs": [
        {
          "output_type": "stream",
          "name": "stdout",
          "text": [
            "time taken:  0.19169163703918457\n"
          ]
        }
      ]
    },
    {
      "cell_type": "code",
      "source": [
        "900/4\n"
      ],
      "metadata": {
        "colab": {
          "base_uri": "https://localhost:8080/"
        },
        "id": "29rayYk7RaTG",
        "outputId": "6ee5f6c9-8699-4a79-f523-f02205f5c117"
      },
      "execution_count": null,
      "outputs": [
        {
          "output_type": "execute_result",
          "data": {
            "text/plain": [
              "225.0"
            ]
          },
          "metadata": {},
          "execution_count": 177
        }
      ]
    },
    {
      "cell_type": "code",
      "source": [
        "225*8"
      ],
      "metadata": {
        "colab": {
          "base_uri": "https://localhost:8080/"
        },
        "id": "44KfSiQ0RdEj",
        "outputId": "d5b53a34-3618-4dc2-9a67-7429c6e710a1"
      },
      "execution_count": null,
      "outputs": [
        {
          "output_type": "execute_result",
          "data": {
            "text/plain": [
              "1800"
            ]
          },
          "metadata": {},
          "execution_count": 178
        }
      ]
    },
    {
      "cell_type": "code",
      "source": [
        "225*8/60"
      ],
      "metadata": {
        "colab": {
          "base_uri": "https://localhost:8080/"
        },
        "id": "7y5RMZYkRk2H",
        "outputId": "8f2de622-5def-4b15-be8c-bd5c2857e164"
      },
      "execution_count": null,
      "outputs": [
        {
          "output_type": "execute_result",
          "data": {
            "text/plain": [
              "30.0"
            ]
          },
          "metadata": {},
          "execution_count": 179
        }
      ]
    },
    {
      "cell_type": "code",
      "source": [
        "result_loocv\n",
        "result_loocv.mean()\n"
      ],
      "metadata": {
        "colab": {
          "base_uri": "https://localhost:8080/"
        },
        "id": "khRP8gYiRoN4",
        "outputId": "2efb65d1-d0ee-4ded-a5c8-e4d1f588e89e"
      },
      "execution_count": null,
      "outputs": [
        {
          "output_type": "execute_result",
          "data": {
            "text/plain": [
              "0.0"
            ]
          },
          "metadata": {},
          "execution_count": 180
        }
      ]
    },
    {
      "cell_type": "code",
      "source": [
        "import numpy as np\n",
        "from sklearn.datasets import load_wine\n",
        "from sklearn.model_selection import cross_val_score, LeaveOneOut\n",
        "from sklearn.ensemble import RandomForestClassifier\n",
        "\n",
        "\n",
        "wine = load_wine()\n",
        "X2 = wine.data[:4]\n",
        "y2 = wine.target[:4]\n",
        "\n",
        "\n",
        "model2 = RandomForestClassifier(n_estimators=10, random_state=0)\n",
        "\n",
        "\n",
        "loo2 = LeaveOneOut()\n",
        "scores_loo2 = cross_val_score(model2, X2, y2, cv=loo2)\n",
        "\n",
        "\n",
        "print(\"Leave-One-Out Cross-Validation Scores:\", scores_loo2)\n",
        "print(\"Mean Accuracy:\", np.mean(scores_loo2))\n"
      ],
      "metadata": {
        "colab": {
          "base_uri": "https://localhost:8080/"
        },
        "id": "omY30oRKeTYx",
        "outputId": "d09f70db-d304-4dc3-d42f-f860dd6908a8"
      },
      "execution_count": null,
      "outputs": [
        {
          "output_type": "stream",
          "name": "stdout",
          "text": [
            "Leave-One-Out Cross-Validation Scores: [1. 1. 1. 1.]\n",
            "Mean Accuracy: 1.0\n"
          ]
        }
      ]
    },
    {
      "cell_type": "markdown",
      "source": [
        "**Repeated KFold Cross Validation:**"
      ],
      "metadata": {
        "id": "UzgvHW1tUA9v"
      }
    },
    {
      "cell_type": "code",
      "source": [
        "start = time.time()\n",
        "result_rkf1 = cross_val_score(estimator=pipe1, X=X1, y=y1, scoring='accuracy',\n",
        "                              cv=RepeatedKFold(n_splits=4, n_repeats=4))\n",
        "result_rkf1\n",
        "print(\"time taken: \", time.time()-start)"
      ],
      "metadata": {
        "colab": {
          "base_uri": "https://localhost:8080/"
        },
        "id": "WQO4RGlRUELl",
        "outputId": "71e7ac03-1b07-489a-e21a-bb33fbc0f4c1"
      },
      "execution_count": null,
      "outputs": [
        {
          "output_type": "stream",
          "name": "stdout",
          "text": [
            "time taken:  5.080450773239136\n"
          ]
        }
      ]
    },
    {
      "cell_type": "code",
      "source": [
        "result_rkf1"
      ],
      "metadata": {
        "colab": {
          "base_uri": "https://localhost:8080/"
        },
        "id": "fsvShoepUfbR",
        "outputId": "a8a4eadc-ee86-416e-c379-f82d4eecaee4"
      },
      "execution_count": null,
      "outputs": [
        {
          "output_type": "execute_result",
          "data": {
            "text/plain": [
              "array([0.        , 0.        , 0.        , 0.        , 0.        ,\n",
              "       0.        , 0.        , 0.        , 0.        , 0.00444444,\n",
              "       0.        , 0.        , 0.        , 0.        , 0.        ,\n",
              "       0.        ])"
            ]
          },
          "metadata": {},
          "execution_count": 185
        }
      ]
    },
    {
      "cell_type": "code",
      "source": [
        "start = time.time()\n",
        "result_rkf1 = cross_val_score(estimator=pipe1, X=X1, y=y1, scoring='accuracy',\n",
        "                              cv=RepeatedKFold(n_splits=4, n_repeats=4))\n",
        "print(\"time taken: \", time.time() - start)\n",
        "print(\"Repeated K-Fold Cross Validation Scores:\", result_rkf1)\n"
      ],
      "metadata": {
        "colab": {
          "base_uri": "https://localhost:8080/"
        },
        "id": "w1pOVguHXDQ6",
        "outputId": "79b514ed-ffed-4b83-a463-d9903e8983f6"
      },
      "execution_count": null,
      "outputs": [
        {
          "output_type": "stream",
          "name": "stdout",
          "text": [
            "time taken:  5.095754861831665\n",
            "Repeated K-Fold Cross Validation Scores: [0. 0. 0. 0. 0. 0. 0. 0. 0. 0. 0. 0. 0. 0. 0. 0.]\n"
          ]
        }
      ]
    },
    {
      "cell_type": "code",
      "source": [
        "import numpy as np\n",
        "import pandas as pd\n",
        "from sklearn.datasets import load_wine\n",
        "from sklearn.model_selection import RepeatedKFold, cross_val_score\n",
        "from sklearn.ensemble import RandomForestClassifier\n",
        "from sklearn.compose import ColumnTransformer\n",
        "from sklearn.preprocessing import RobustScaler, OneHotEncoder\n",
        "from sklearn.pipeline import Pipeline\n",
        "\n",
        "\n",
        "wine = load_wine()\n",
        "X3 = wine.data[:4]\n",
        "y3 = wine.target[:4]\n",
        "\n",
        "\n",
        "num_cols3 = pd.DataFrame(X3).select_dtypes(include=np.number).columns\n",
        "cat_cols3 = pd.DataFrame(X3).select_dtypes(exclude=np.number).columns\n",
        "\n",
        "\n",
        "ct3 = ColumnTransformer([\n",
        "    ('rob', RobustScaler(), num_cols3),\n",
        "    ('ohe', OneHotEncoder(handle_unknown='ignore'), cat_cols3)\n",
        "])\n",
        "\n",
        "\n",
        "model3 = RandomForestClassifier(n_estimators=10, random_state=0)\n",
        "\n",
        "\n",
        "pipe3 = Pipeline([\n",
        "    ('ct_step', ct3),\n",
        "    ('model', model3)\n",
        "])\n",
        "\n",
        "\n",
        "rkf3 = RepeatedKFold(n_splits=2, n_repeats=2)\n",
        "scores_rkf3 = cross_val_score(pipe3, X3, y3, cv=rkf3)\n",
        "\n",
        "\n",
        "print(\"Repeated K-Fold Cross-Validation Scores:\", scores_rkf3)\n"
      ],
      "metadata": {
        "colab": {
          "base_uri": "https://localhost:8080/"
        },
        "id": "XNHnXZGYevCP",
        "outputId": "3fceb650-a108-43c9-9590-5f44dac06baa"
      },
      "execution_count": null,
      "outputs": [
        {
          "output_type": "stream",
          "name": "stdout",
          "text": [
            "Repeated K-Fold Cross-Validation Scores: [1. 1. 1. 1.]\n"
          ]
        }
      ]
    },
    {
      "cell_type": "markdown",
      "source": [
        "###Question-3(b)\n",
        "Consider a dataset with 6 samples and perform 3 split time-series cross validation"
      ],
      "metadata": {
        "id": "L2IVz5y-QXv4"
      }
    },
    {
      "cell_type": "code",
      "source": [
        "#Write your code here\n",
        "import numpy as np\n",
        "from sklearn.model_selection import TimeSeriesSplit\n",
        "\n",
        "\n",
        "data = np.array([1, 2, 3, 4, 5, 6])\n",
        "\n",
        "\n",
        "tscv = TimeSeriesSplit(n_splits=3)\n",
        "\n",
        "for train_index, test_index in tscv.split(data):\n",
        "    print(\"Train:\", data[train_index], \"Test:\", data[test_index])\n"
      ],
      "metadata": {
        "id": "pEE6m3jiQlHb",
        "colab": {
          "base_uri": "https://localhost:8080/"
        },
        "outputId": "59df7797-74e4-4b06-ca63-dbc3eab78c8f"
      },
      "execution_count": null,
      "outputs": [
        {
          "output_type": "stream",
          "name": "stdout",
          "text": [
            "Train: [1 2 3] Test: [4]\n",
            "Train: [1 2 3 4] Test: [5]\n",
            "Train: [1 2 3 4 5] Test: [6]\n"
          ]
        }
      ]
    },
    {
      "cell_type": "code",
      "source": [
        "import numpy as np\n",
        "from sklearn.model_selection import TimeSeriesSplit\n",
        "\n",
        "X = np.array([[1, 2], [3, 4], [1, 2], [3, 4], [1, 2], [3, 4]])\n",
        "y = np.array([1, 2, 3, 4, 5, 6])\n",
        "\n",
        "tscv = TimeSeriesSplit()\n",
        "print(tscv)\n",
        "\n",
        "for train_index, test_index in tscv.split(X):\n",
        "    print(\"TRAIN:\", train_index, \"TEST:\", test_index)\n",
        "    X_train, X_test = X[train_index], X[test_index]\n",
        "    y_train, y_test = y[train_index], y[test_index]\n"
      ],
      "metadata": {
        "colab": {
          "base_uri": "https://localhost:8080/"
        },
        "id": "tpjSoH7eYsQK",
        "outputId": "524a3857-e8a5-4bea-fe22-5db436964396"
      },
      "execution_count": null,
      "outputs": [
        {
          "output_type": "stream",
          "name": "stdout",
          "text": [
            "TimeSeriesSplit(gap=0, max_train_size=None, n_splits=5, test_size=None)\n",
            "TRAIN: [0] TEST: [1]\n",
            "TRAIN: [0 1] TEST: [2]\n",
            "TRAIN: [0 1 2] TEST: [3]\n",
            "TRAIN: [0 1 2 3] TEST: [4]\n",
            "TRAIN: [0 1 2 3 4] TEST: [5]\n"
          ]
        }
      ]
    }
  ]
}